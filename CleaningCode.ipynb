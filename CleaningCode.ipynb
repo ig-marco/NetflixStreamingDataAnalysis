{
 "cells": [
  {
   "cell_type": "code",
   "execution_count": 3,
   "id": "140c4cac-016c-47ff-9ec8-31ca2e189e2b",
   "metadata": {},
   "outputs": [],
   "source": [
    "import numpy as np\n",
    "import pandas as pd"
   ]
  },
  {
   "cell_type": "code",
   "execution_count": 5,
   "id": "16d6bc7e-7728-4a9d-aa35-29bb4e9f7761",
   "metadata": {},
   "outputs": [],
   "source": [
    "df = pd.read_csv('netflix_titles.csv')"
   ]
  },
  {
   "cell_type": "code",
   "execution_count": 7,
   "id": "f3af9a49-e950-4fe1-b7e0-184770c32f91",
   "metadata": {},
   "outputs": [
    {
     "data": {
      "text/html": [
       "<div>\n",
       "<style scoped>\n",
       "    .dataframe tbody tr th:only-of-type {\n",
       "        vertical-align: middle;\n",
       "    }\n",
       "\n",
       "    .dataframe tbody tr th {\n",
       "        vertical-align: top;\n",
       "    }\n",
       "\n",
       "    .dataframe thead th {\n",
       "        text-align: right;\n",
       "    }\n",
       "</style>\n",
       "<table border=\"1\" class=\"dataframe\">\n",
       "  <thead>\n",
       "    <tr style=\"text-align: right;\">\n",
       "      <th></th>\n",
       "      <th>show_id</th>\n",
       "      <th>type</th>\n",
       "      <th>title</th>\n",
       "      <th>director</th>\n",
       "      <th>cast</th>\n",
       "      <th>country</th>\n",
       "      <th>date_added</th>\n",
       "      <th>release_year</th>\n",
       "      <th>rating</th>\n",
       "      <th>duration</th>\n",
       "      <th>listed_in</th>\n",
       "      <th>description</th>\n",
       "    </tr>\n",
       "  </thead>\n",
       "  <tbody>\n",
       "    <tr>\n",
       "      <th>3479</th>\n",
       "      <td>s3480</td>\n",
       "      <td>Movie</td>\n",
       "      <td>Cultivating the Seas: History and Future of th...</td>\n",
       "      <td>Mana Yasuda</td>\n",
       "      <td>NaN</td>\n",
       "      <td>NaN</td>\n",
       "      <td>September 28, 2019</td>\n",
       "      <td>2019</td>\n",
       "      <td>TV-PG</td>\n",
       "      <td>45 min</td>\n",
       "      <td>Documentaries, International Movies</td>\n",
       "      <td>An in-depth look at the full-cycle breeding pr...</td>\n",
       "    </tr>\n",
       "    <tr>\n",
       "      <th>1014</th>\n",
       "      <td>s1015</td>\n",
       "      <td>TV Show</td>\n",
       "      <td>PJ Masks</td>\n",
       "      <td>NaN</td>\n",
       "      <td>Jacob Ewaniuk, Kyle Breitkopf, Addison Holley</td>\n",
       "      <td>France, United Kingdom</td>\n",
       "      <td>April 19, 2021</td>\n",
       "      <td>2019</td>\n",
       "      <td>TV-Y</td>\n",
       "      <td>3 Seasons</td>\n",
       "      <td>Kids' TV</td>\n",
       "      <td>Three 6-year-old kids who live normal lives du...</td>\n",
       "    </tr>\n",
       "    <tr>\n",
       "      <th>3199</th>\n",
       "      <td>s3200</td>\n",
       "      <td>TV Show</td>\n",
       "      <td>Space Jungle</td>\n",
       "      <td>NaN</td>\n",
       "      <td>Kim Min-hee, Park Yoon-hee, Sun Sung-wook</td>\n",
       "      <td>NaN</td>\n",
       "      <td>December 1, 2019</td>\n",
       "      <td>2016</td>\n",
       "      <td>TV-Y</td>\n",
       "      <td>2 Seasons</td>\n",
       "      <td>Kids' TV, Korean TV Shows, TV Comedies</td>\n",
       "      <td>A broken spaceship strands four very tiny alie...</td>\n",
       "    </tr>\n",
       "    <tr>\n",
       "      <th>5344</th>\n",
       "      <td>s5345</td>\n",
       "      <td>Movie</td>\n",
       "      <td>Message from the King</td>\n",
       "      <td>Fabrice Du Welz</td>\n",
       "      <td>Chadwick Boseman, Luke Evans, Teresa Palmer, A...</td>\n",
       "      <td>United Kingdom, France, Belgium, United States</td>\n",
       "      <td>August 4, 2017</td>\n",
       "      <td>2017</td>\n",
       "      <td>R</td>\n",
       "      <td>103 min</td>\n",
       "      <td>Independent Movies, Thrillers</td>\n",
       "      <td>On a relentless quest to avenge his sister's m...</td>\n",
       "    </tr>\n",
       "    <tr>\n",
       "      <th>60</th>\n",
       "      <td>s61</td>\n",
       "      <td>Movie</td>\n",
       "      <td>Naruto Shippuden: The Movie: The Lost Tower</td>\n",
       "      <td>Masahiko Murata</td>\n",
       "      <td>Junko Takeuchi, Chie Nakamura, Satoshi Hino, R...</td>\n",
       "      <td>Japan</td>\n",
       "      <td>September 15, 2021</td>\n",
       "      <td>2010</td>\n",
       "      <td>TV-14</td>\n",
       "      <td>85 min</td>\n",
       "      <td>Action &amp; Adventure, Anime Features, Internatio...</td>\n",
       "      <td>When Naruto is sent to recover a missing nin, ...</td>\n",
       "    </tr>\n",
       "  </tbody>\n",
       "</table>\n",
       "</div>"
      ],
      "text/plain": [
       "     show_id     type                                              title  \\\n",
       "3479   s3480    Movie  Cultivating the Seas: History and Future of th...   \n",
       "1014   s1015  TV Show                                           PJ Masks   \n",
       "3199   s3200  TV Show                                       Space Jungle   \n",
       "5344   s5345    Movie                              Message from the King   \n",
       "60       s61    Movie        Naruto Shippuden: The Movie: The Lost Tower   \n",
       "\n",
       "             director                                               cast  \\\n",
       "3479      Mana Yasuda                                                NaN   \n",
       "1014              NaN      Jacob Ewaniuk, Kyle Breitkopf, Addison Holley   \n",
       "3199              NaN          Kim Min-hee, Park Yoon-hee, Sun Sung-wook   \n",
       "5344  Fabrice Du Welz  Chadwick Boseman, Luke Evans, Teresa Palmer, A...   \n",
       "60    Masahiko Murata  Junko Takeuchi, Chie Nakamura, Satoshi Hino, R...   \n",
       "\n",
       "                                             country          date_added  \\\n",
       "3479                                             NaN  September 28, 2019   \n",
       "1014                          France, United Kingdom      April 19, 2021   \n",
       "3199                                             NaN    December 1, 2019   \n",
       "5344  United Kingdom, France, Belgium, United States      August 4, 2017   \n",
       "60                                             Japan  September 15, 2021   \n",
       "\n",
       "      release_year rating   duration  \\\n",
       "3479          2019  TV-PG     45 min   \n",
       "1014          2019   TV-Y  3 Seasons   \n",
       "3199          2016   TV-Y  2 Seasons   \n",
       "5344          2017      R    103 min   \n",
       "60            2010  TV-14     85 min   \n",
       "\n",
       "                                              listed_in  \\\n",
       "3479                Documentaries, International Movies   \n",
       "1014                                           Kids' TV   \n",
       "3199             Kids' TV, Korean TV Shows, TV Comedies   \n",
       "5344                      Independent Movies, Thrillers   \n",
       "60    Action & Adventure, Anime Features, Internatio...   \n",
       "\n",
       "                                            description  \n",
       "3479  An in-depth look at the full-cycle breeding pr...  \n",
       "1014  Three 6-year-old kids who live normal lives du...  \n",
       "3199  A broken spaceship strands four very tiny alie...  \n",
       "5344  On a relentless quest to avenge his sister's m...  \n",
       "60    When Naruto is sent to recover a missing nin, ...  "
      ]
     },
     "execution_count": 7,
     "metadata": {},
     "output_type": "execute_result"
    }
   ],
   "source": [
    "df.sample(5)\n"
   ]
  },
  {
   "cell_type": "code",
   "execution_count": 9,
   "id": "051cf2cd-cb1e-40a7-8d34-5dc2eb224407",
   "metadata": {},
   "outputs": [],
   "source": [
    "df.drop([\"show_id\",\"description\"], axis=1, inplace=True)"
   ]
  },
  {
   "cell_type": "code",
   "execution_count": 11,
   "id": "767f1f77-a064-41a0-acc9-e45c2f024aed",
   "metadata": {},
   "outputs": [
    {
     "data": {
      "text/html": [
       "<div>\n",
       "<style scoped>\n",
       "    .dataframe tbody tr th:only-of-type {\n",
       "        vertical-align: middle;\n",
       "    }\n",
       "\n",
       "    .dataframe tbody tr th {\n",
       "        vertical-align: top;\n",
       "    }\n",
       "\n",
       "    .dataframe thead th {\n",
       "        text-align: right;\n",
       "    }\n",
       "</style>\n",
       "<table border=\"1\" class=\"dataframe\">\n",
       "  <thead>\n",
       "    <tr style=\"text-align: right;\">\n",
       "      <th></th>\n",
       "      <th>type</th>\n",
       "      <th>title</th>\n",
       "      <th>director</th>\n",
       "      <th>cast</th>\n",
       "      <th>country</th>\n",
       "      <th>date_added</th>\n",
       "      <th>release_year</th>\n",
       "      <th>rating</th>\n",
       "      <th>duration</th>\n",
       "      <th>listed_in</th>\n",
       "    </tr>\n",
       "  </thead>\n",
       "  <tbody>\n",
       "    <tr>\n",
       "      <th>4501</th>\n",
       "      <td>TV Show</td>\n",
       "      <td>Wanderlust</td>\n",
       "      <td>NaN</td>\n",
       "      <td>Toni Collette, Steven Mackintosh, Zawe Ashton,...</td>\n",
       "      <td>United Kingdom</td>\n",
       "      <td>October 19, 2018</td>\n",
       "      <td>2018</td>\n",
       "      <td>TV-MA</td>\n",
       "      <td>1 Season</td>\n",
       "      <td>British TV Shows, International TV Shows, Roma...</td>\n",
       "    </tr>\n",
       "    <tr>\n",
       "      <th>1861</th>\n",
       "      <td>Movie</td>\n",
       "      <td>Dil</td>\n",
       "      <td>Indra Kumar</td>\n",
       "      <td>Aamir Khan, Madhuri Dixit, Saeed Jaffrey, Deve...</td>\n",
       "      <td>India</td>\n",
       "      <td>October 12, 2020</td>\n",
       "      <td>1990</td>\n",
       "      <td>TV-14</td>\n",
       "      <td>165 min</td>\n",
       "      <td>Comedies, Dramas, International Movies</td>\n",
       "    </tr>\n",
       "    <tr>\n",
       "      <th>237</th>\n",
       "      <td>Movie</td>\n",
       "      <td>Boomika (Hindi)</td>\n",
       "      <td>Rathindran R Prasad</td>\n",
       "      <td>Aishwarya Rajesh, Vidhu, Surya Ganapathy, Madh...</td>\n",
       "      <td>NaN</td>\n",
       "      <td>August 23, 2021</td>\n",
       "      <td>2021</td>\n",
       "      <td>TV-14</td>\n",
       "      <td>122 min</td>\n",
       "      <td>Horror Movies, International Movies, Thrillers</td>\n",
       "    </tr>\n",
       "    <tr>\n",
       "      <th>3343</th>\n",
       "      <td>Movie</td>\n",
       "      <td>Santa Girl</td>\n",
       "      <td>Blayne Weaver</td>\n",
       "      <td>Barry Bostwick, Jennifer Stone, Devon Werkheis...</td>\n",
       "      <td>United States</td>\n",
       "      <td>November 1, 2019</td>\n",
       "      <td>2019</td>\n",
       "      <td>TV-PG</td>\n",
       "      <td>91 min</td>\n",
       "      <td>Children &amp; Family Movies, Comedies, Romantic M...</td>\n",
       "    </tr>\n",
       "    <tr>\n",
       "      <th>1824</th>\n",
       "      <td>Movie</td>\n",
       "      <td>Taxi Ballad</td>\n",
       "      <td>Daniel Joseph</td>\n",
       "      <td>Talal El-Jordi, Karina Logue, Badih Abou Chakr...</td>\n",
       "      <td>Lebanon, United States, United Arab Emirates</td>\n",
       "      <td>October 19, 2020</td>\n",
       "      <td>2012</td>\n",
       "      <td>TV-MA</td>\n",
       "      <td>81 min</td>\n",
       "      <td>Dramas, International Movies</td>\n",
       "    </tr>\n",
       "  </tbody>\n",
       "</table>\n",
       "</div>"
      ],
      "text/plain": [
       "         type            title             director  \\\n",
       "4501  TV Show       Wanderlust                  NaN   \n",
       "1861    Movie              Dil          Indra Kumar   \n",
       "237     Movie  Boomika (Hindi)  Rathindran R Prasad   \n",
       "3343    Movie       Santa Girl        Blayne Weaver   \n",
       "1824    Movie      Taxi Ballad        Daniel Joseph   \n",
       "\n",
       "                                                   cast  \\\n",
       "4501  Toni Collette, Steven Mackintosh, Zawe Ashton,...   \n",
       "1861  Aamir Khan, Madhuri Dixit, Saeed Jaffrey, Deve...   \n",
       "237   Aishwarya Rajesh, Vidhu, Surya Ganapathy, Madh...   \n",
       "3343  Barry Bostwick, Jennifer Stone, Devon Werkheis...   \n",
       "1824  Talal El-Jordi, Karina Logue, Badih Abou Chakr...   \n",
       "\n",
       "                                           country        date_added  \\\n",
       "4501                                United Kingdom  October 19, 2018   \n",
       "1861                                         India  October 12, 2020   \n",
       "237                                            NaN   August 23, 2021   \n",
       "3343                                 United States  November 1, 2019   \n",
       "1824  Lebanon, United States, United Arab Emirates  October 19, 2020   \n",
       "\n",
       "      release_year rating  duration  \\\n",
       "4501          2018  TV-MA  1 Season   \n",
       "1861          1990  TV-14   165 min   \n",
       "237           2021  TV-14   122 min   \n",
       "3343          2019  TV-PG    91 min   \n",
       "1824          2012  TV-MA    81 min   \n",
       "\n",
       "                                              listed_in  \n",
       "4501  British TV Shows, International TV Shows, Roma...  \n",
       "1861             Comedies, Dramas, International Movies  \n",
       "237      Horror Movies, International Movies, Thrillers  \n",
       "3343  Children & Family Movies, Comedies, Romantic M...  \n",
       "1824                       Dramas, International Movies  "
      ]
     },
     "execution_count": 11,
     "metadata": {},
     "output_type": "execute_result"
    }
   ],
   "source": [
    "df.sample(5)"
   ]
  },
  {
   "cell_type": "code",
   "execution_count": 13,
   "id": "330cf636-f281-4652-a9b3-6e564cb52faa",
   "metadata": {},
   "outputs": [
    {
     "data": {
      "text/plain": [
       "(8807, 10)"
      ]
     },
     "execution_count": 13,
     "metadata": {},
     "output_type": "execute_result"
    }
   ],
   "source": [
    "df.shape"
   ]
  },
  {
   "cell_type": "code",
   "execution_count": 15,
   "id": "a3c361c7-184e-4fb3-8bd4-599d55f0f894",
   "metadata": {},
   "outputs": [
    {
     "data": {
      "text/plain": [
       "Index(['type', 'title', 'director', 'cast', 'country', 'date_added',\n",
       "       'release_year', 'rating', 'duration', 'listed_in'],\n",
       "      dtype='object')"
      ]
     },
     "execution_count": 15,
     "metadata": {},
     "output_type": "execute_result"
    }
   ],
   "source": [
    "df.columns"
   ]
  },
  {
   "cell_type": "code",
   "execution_count": 17,
   "id": "499c2612-6f9e-4010-b992-465f56a6fafe",
   "metadata": {},
   "outputs": [
    {
     "name": "stdout",
     "output_type": "stream",
     "text": [
      "<class 'pandas.core.frame.DataFrame'>\n",
      "RangeIndex: 8807 entries, 0 to 8806\n",
      "Data columns (total 10 columns):\n",
      " #   Column        Non-Null Count  Dtype \n",
      "---  ------        --------------  ----- \n",
      " 0   type          8807 non-null   object\n",
      " 1   title         8807 non-null   object\n",
      " 2   director      6173 non-null   object\n",
      " 3   cast          7982 non-null   object\n",
      " 4   country       7976 non-null   object\n",
      " 5   date_added    8797 non-null   object\n",
      " 6   release_year  8807 non-null   int64 \n",
      " 7   rating        8803 non-null   object\n",
      " 8   duration      8804 non-null   object\n",
      " 9   listed_in     8807 non-null   object\n",
      "dtypes: int64(1), object(9)\n",
      "memory usage: 688.2+ KB\n"
     ]
    }
   ],
   "source": [
    "df.info()"
   ]
  },
  {
   "cell_type": "code",
   "execution_count": 19,
   "id": "e831b813-56cb-44b1-891a-99c1c3cefdb0",
   "metadata": {},
   "outputs": [
    {
     "data": {
      "text/plain": [
       "type               0\n",
       "title              0\n",
       "director        2634\n",
       "cast             825\n",
       "country          831\n",
       "date_added        10\n",
       "release_year       0\n",
       "rating             4\n",
       "duration           3\n",
       "listed_in          0\n",
       "dtype: int64"
      ]
     },
     "execution_count": 19,
     "metadata": {},
     "output_type": "execute_result"
    }
   ],
   "source": [
    "df.isna().sum()"
   ]
  },
  {
   "cell_type": "code",
   "execution_count": 23,
   "id": "9e82fe07-3ddb-488e-9513-467036ac75f9",
   "metadata": {},
   "outputs": [
    {
     "data": {
      "text/plain": [
       "country\n",
       "United States                             2818\n",
       "India                                      972\n",
       "United Kingdom                             419\n",
       "Japan                                      245\n",
       "South Korea                                199\n",
       "                                          ... \n",
       "Romania, Bulgaria, Hungary                   1\n",
       "Uruguay, Guatemala                           1\n",
       "France, Senegal, Belgium                     1\n",
       "Mexico, United States, Spain, Colombia       1\n",
       "United Arab Emirates, Jordan                 1\n",
       "Name: count, Length: 748, dtype: int64"
      ]
     },
     "execution_count": 23,
     "metadata": {},
     "output_type": "execute_result"
    }
   ],
   "source": [
    "df[\"country\"].value_counts()"
   ]
  },
  {
   "cell_type": "code",
   "execution_count": 25,
   "id": "b0c0d9dd-c0c7-4c07-bff6-dde0e2fc7ffe",
   "metadata": {},
   "outputs": [
    {
     "data": {
      "text/plain": [
       "country\n",
       "United States     2818\n",
       "India              972\n",
       "United Kingdom     419\n",
       "Name: count, dtype: int64"
      ]
     },
     "execution_count": 25,
     "metadata": {},
     "output_type": "execute_result"
    }
   ],
   "source": [
    "df[\"country\"].value_counts().head(3)\n"
   ]
  },
  {
   "cell_type": "code",
   "execution_count": 27,
   "id": "ae421f85-9d35-4ad2-b76c-8512e15d6b08",
   "metadata": {},
   "outputs": [
    {
     "data": {
      "text/plain": [
       "'United States'"
      ]
     },
     "execution_count": 27,
     "metadata": {},
     "output_type": "execute_result"
    }
   ],
   "source": [
    "mode_country = df[\"country\"].mode()[0]\n",
    "mode_country"
   ]
  },
  {
   "cell_type": "code",
   "execution_count": 29,
   "id": "6946c2be-bd95-458a-a528-90d4951b3147",
   "metadata": {},
   "outputs": [],
   "source": [
    "df[\"country\"] = df[\"country\"].fillna(mode_country)"
   ]
  },
  {
   "cell_type": "code",
   "execution_count": 31,
   "id": "23d3d7ad-ff79-4476-b0ab-86c92bd8566a",
   "metadata": {},
   "outputs": [
    {
     "data": {
      "text/plain": [
       "0"
      ]
     },
     "execution_count": 31,
     "metadata": {},
     "output_type": "execute_result"
    }
   ],
   "source": [
    "df[\"country\"].isna().sum()"
   ]
  },
  {
   "cell_type": "code",
   "execution_count": 33,
   "id": "6ce7fc01-fb40-4fc6-9c99-e12cc1df9c86",
   "metadata": {},
   "outputs": [
    {
     "data": {
      "text/plain": [
       "date_added\n",
       "January 1, 2020     109\n",
       "November 1, 2019     89\n",
       "March 1, 2018        75\n",
       "Name: count, dtype: int64"
      ]
     },
     "execution_count": 33,
     "metadata": {},
     "output_type": "execute_result"
    }
   ],
   "source": [
    "df['date_added'].value_counts().head(3)"
   ]
  },
  {
   "cell_type": "code",
   "execution_count": 35,
   "id": "a800f975-549d-4a9a-98d4-27135d1eaeca",
   "metadata": {},
   "outputs": [
    {
     "data": {
      "text/plain": [
       "'January 1, 2020'"
      ]
     },
     "execution_count": 35,
     "metadata": {},
     "output_type": "execute_result"
    }
   ],
   "source": [
    "mode_date = df['date_added'].mode()[0]\n",
    "mode_date"
   ]
  },
  {
   "cell_type": "code",
   "execution_count": 37,
   "id": "be2477fc-90cf-4187-bacd-a16bc2251df0",
   "metadata": {},
   "outputs": [],
   "source": [
    "df['date_added']=df['date_added'].fillna(mode_date)"
   ]
  },
  {
   "cell_type": "code",
   "execution_count": 39,
   "id": "a8635403-1a4a-4d3e-8a8c-cee31d05912e",
   "metadata": {},
   "outputs": [
    {
     "data": {
      "text/plain": [
       "0"
      ]
     },
     "execution_count": 39,
     "metadata": {},
     "output_type": "execute_result"
    }
   ],
   "source": [
    "df['date_added'].isna().sum()"
   ]
  },
  {
   "cell_type": "code",
   "execution_count": 41,
   "id": "6f5b9db4-2664-43d2-9f8b-1539fcfa34c5",
   "metadata": {},
   "outputs": [
    {
     "data": {
      "text/plain": [
       "'TV-MA'"
      ]
     },
     "execution_count": 41,
     "metadata": {},
     "output_type": "execute_result"
    }
   ],
   "source": [
    "mode_rating = df['rating'].mode()[0]\n",
    "mode_rating"
   ]
  },
  {
   "cell_type": "code",
   "execution_count": 43,
   "id": "828b6aa9-b7e2-44a0-9e86-b79a35e09e0f",
   "metadata": {},
   "outputs": [
    {
     "data": {
      "text/plain": [
       "0"
      ]
     },
     "execution_count": 43,
     "metadata": {},
     "output_type": "execute_result"
    }
   ],
   "source": [
    "df['rating'] = df['rating'].fillna(mode_rating)\n",
    "df['rating'].isna().sum()"
   ]
  },
  {
   "cell_type": "code",
   "execution_count": 45,
   "id": "92c0dde6-93bf-43e3-8527-e2a8212d7f81",
   "metadata": {},
   "outputs": [],
   "source": [
    "mode_duration = df['duration'].mode()[0]"
   ]
  },
  {
   "cell_type": "code",
   "execution_count": 47,
   "id": "e3796ba3-2356-4d6c-a628-c61a72660b22",
   "metadata": {},
   "outputs": [
    {
     "data": {
      "text/plain": [
       "'1 Season'"
      ]
     },
     "execution_count": 47,
     "metadata": {},
     "output_type": "execute_result"
    }
   ],
   "source": [
    "mode_duration"
   ]
  },
  {
   "cell_type": "code",
   "execution_count": 49,
   "id": "63e26a05-ec92-4d72-b6eb-a5b3d273294a",
   "metadata": {},
   "outputs": [
    {
     "data": {
      "text/plain": [
       "0"
      ]
     },
     "execution_count": 49,
     "metadata": {},
     "output_type": "execute_result"
    }
   ],
   "source": [
    "df['duration'] = df['duration'].fillna(mode_duration)\n",
    "df['duration'].isna().sum()"
   ]
  },
  {
   "cell_type": "code",
   "execution_count": 51,
   "id": "410279d4-f7ca-420d-81fa-d54da7fc40a6",
   "metadata": {},
   "outputs": [
    {
     "data": {
      "text/plain": [
       "0"
      ]
     },
     "execution_count": 51,
     "metadata": {},
     "output_type": "execute_result"
    }
   ],
   "source": [
    "df['director'] = df['director'].fillna(\"Not Mentioned\")\n",
    "df['cast'] = df['cast'].fillna(\"Not Mentioned\")\n",
    "df['director'].isna().sum()\n",
    "df['cast'].isna().sum()"
   ]
  },
  {
   "cell_type": "code",
   "execution_count": 53,
   "id": "033e708b-b030-43bf-9eb9-28c62161285e",
   "metadata": {},
   "outputs": [
    {
     "name": "stdout",
     "output_type": "stream",
     "text": [
      "<class 'pandas.core.frame.DataFrame'>\n",
      "RangeIndex: 8807 entries, 0 to 8806\n",
      "Data columns (total 10 columns):\n",
      " #   Column        Non-Null Count  Dtype \n",
      "---  ------        --------------  ----- \n",
      " 0   type          8807 non-null   object\n",
      " 1   title         8807 non-null   object\n",
      " 2   director      8807 non-null   object\n",
      " 3   cast          8807 non-null   object\n",
      " 4   country       8807 non-null   object\n",
      " 5   date_added    8807 non-null   object\n",
      " 6   release_year  8807 non-null   int64 \n",
      " 7   rating        8807 non-null   object\n",
      " 8   duration      8807 non-null   object\n",
      " 9   listed_in     8807 non-null   object\n",
      "dtypes: int64(1), object(9)\n",
      "memory usage: 688.2+ KB\n"
     ]
    }
   ],
   "source": [
    "df.info()"
   ]
  },
  {
   "cell_type": "code",
   "execution_count": 55,
   "id": "eb94a3a1-fb66-47dd-a767-6d1ee5ad0364",
   "metadata": {},
   "outputs": [
    {
     "data": {
      "text/plain": [
       "array(['PG-13', 'TV-MA', 'PG', 'TV-14', 'TV-PG', 'TV-Y', 'TV-Y7', 'R',\n",
       "       'TV-G', 'G', 'NC-17', '74 min', '84 min', '66 min', 'NR',\n",
       "       'TV-Y7-FV', 'UR'], dtype=object)"
      ]
     },
     "execution_count": 55,
     "metadata": {},
     "output_type": "execute_result"
    }
   ],
   "source": [
    "df['rating'].unique()"
   ]
  },
  {
   "cell_type": "code",
   "execution_count": 57,
   "id": "a96f33d6-1efa-4201-84bd-841e70e090c8",
   "metadata": {},
   "outputs": [],
   "source": [
    "df = df[~df['rating'].str.contains(\"min\")]"
   ]
  },
  {
   "cell_type": "code",
   "execution_count": 59,
   "id": "f3b3fa52-7623-4576-bcb3-f290f8af6102",
   "metadata": {},
   "outputs": [
    {
     "data": {
      "text/plain": [
       "array(['PG-13', 'TV-MA', 'PG', 'TV-14', 'TV-PG', 'TV-Y', 'TV-Y7', 'R',\n",
       "       'TV-G', 'G', 'NC-17', 'NR', 'TV-Y7-FV', 'UR'], dtype=object)"
      ]
     },
     "execution_count": 59,
     "metadata": {},
     "output_type": "execute_result"
    }
   ],
   "source": [
    "df['rating'].unique()"
   ]
  },
  {
   "cell_type": "code",
   "execution_count": 61,
   "id": "8c64c600-84bf-4da7-a1e9-6f7a98f11e7f",
   "metadata": {},
   "outputs": [
    {
     "data": {
      "text/plain": [
       "array(['September 25, 2021', 'September 24, 2021', 'September 23, 2021',\n",
       "       ..., 'December 6, 2018', 'March 9, 2016', 'January 11, 2020'],\n",
       "      dtype=object)"
      ]
     },
     "execution_count": 61,
     "metadata": {},
     "output_type": "execute_result"
    }
   ],
   "source": [
    "df['date_added'].unique()"
   ]
  },
  {
   "cell_type": "code",
   "execution_count": 63,
   "id": "55cd61b8-9c6d-40f2-8529-47340462ce37",
   "metadata": {},
   "outputs": [],
   "source": [
    "df['date_added'] = df['date_added'].str.replace(\",\",\"\")"
   ]
  },
  {
   "cell_type": "code",
   "execution_count": 65,
   "id": "353bfb19-f8b3-4ab8-8d22-521076878599",
   "metadata": {},
   "outputs": [
    {
     "data": {
      "text/plain": [
       "array(['September 25 2021', 'September 24 2021', 'September 23 2021', ...,\n",
       "       'December 6 2018', 'March 9 2016', 'January 11 2020'], dtype=object)"
      ]
     },
     "execution_count": 65,
     "metadata": {},
     "output_type": "execute_result"
    }
   ],
   "source": [
    "df['date_added'].unique()"
   ]
  },
  {
   "cell_type": "code",
   "execution_count": 67,
   "id": "45623201-2539-4b2c-8c96-a186f229625f",
   "metadata": {},
   "outputs": [],
   "source": [
    "df['date_added'] = pd.to_datetime(df['date_added'],format=\"mixed\")"
   ]
  },
  {
   "cell_type": "code",
   "execution_count": 69,
   "id": "db382c1e-52ab-4b83-be01-e471af5966b6",
   "metadata": {},
   "outputs": [
    {
     "data": {
      "text/plain": [
       "<DatetimeArray>\n",
       "['2021-09-25 00:00:00', '2021-09-24 00:00:00', '2021-09-23 00:00:00',\n",
       " '2021-09-22 00:00:00', '2021-09-21 00:00:00', '2021-09-20 00:00:00',\n",
       " '2021-09-19 00:00:00', '2021-09-17 00:00:00', '2021-09-16 00:00:00',\n",
       " '2021-09-15 00:00:00',\n",
       " ...\n",
       " '2018-09-27 00:00:00', '2017-03-23 00:00:00', '2016-12-25 00:00:00',\n",
       " '2016-11-30 00:00:00', '2017-10-23 00:00:00', '2017-11-04 00:00:00',\n",
       " '2015-08-05 00:00:00', '2018-12-06 00:00:00', '2016-03-09 00:00:00',\n",
       " '2020-01-11 00:00:00']\n",
       "Length: 1714, dtype: datetime64[ns]"
      ]
     },
     "execution_count": 69,
     "metadata": {},
     "output_type": "execute_result"
    }
   ],
   "source": [
    "df['date_added'].unique()\n"
   ]
  },
  {
   "cell_type": "code",
   "execution_count": 71,
   "id": "0973f9a7-e974-41aa-94c4-a7767a6d5e2a",
   "metadata": {},
   "outputs": [],
   "source": [
    "df['year']=df['date_added'].dt.year"
   ]
  },
  {
   "cell_type": "code",
   "execution_count": 73,
   "id": "9e55e46d-33bf-4a98-8e0b-0b70f88f10cf",
   "metadata": {},
   "outputs": [],
   "source": [
    "df['month']=df['date_added'].dt.month\n",
    "df['day']=df['date_added'].dt.day"
   ]
  },
  {
   "cell_type": "code",
   "execution_count": 75,
   "id": "6d07347a-f1e4-44db-8bc0-842c5e20f833",
   "metadata": {},
   "outputs": [
    {
     "data": {
      "text/html": [
       "<div>\n",
       "<style scoped>\n",
       "    .dataframe tbody tr th:only-of-type {\n",
       "        vertical-align: middle;\n",
       "    }\n",
       "\n",
       "    .dataframe tbody tr th {\n",
       "        vertical-align: top;\n",
       "    }\n",
       "\n",
       "    .dataframe thead th {\n",
       "        text-align: right;\n",
       "    }\n",
       "</style>\n",
       "<table border=\"1\" class=\"dataframe\">\n",
       "  <thead>\n",
       "    <tr style=\"text-align: right;\">\n",
       "      <th></th>\n",
       "      <th>type</th>\n",
       "      <th>title</th>\n",
       "      <th>director</th>\n",
       "      <th>cast</th>\n",
       "      <th>country</th>\n",
       "      <th>date_added</th>\n",
       "      <th>release_year</th>\n",
       "      <th>rating</th>\n",
       "      <th>duration</th>\n",
       "      <th>listed_in</th>\n",
       "      <th>year</th>\n",
       "      <th>month</th>\n",
       "      <th>day</th>\n",
       "    </tr>\n",
       "  </thead>\n",
       "  <tbody>\n",
       "    <tr>\n",
       "      <th>8462</th>\n",
       "      <td>Movie</td>\n",
       "      <td>The Power of Grayskull: The Definitive History...</td>\n",
       "      <td>Randall Lobb, Robert McCallum</td>\n",
       "      <td>Not Mentioned</td>\n",
       "      <td>Canada, United States</td>\n",
       "      <td>2018-08-24</td>\n",
       "      <td>2017</td>\n",
       "      <td>TV-14</td>\n",
       "      <td>96 min</td>\n",
       "      <td>Documentaries</td>\n",
       "      <td>2018</td>\n",
       "      <td>8</td>\n",
       "      <td>24</td>\n",
       "    </tr>\n",
       "    <tr>\n",
       "      <th>6239</th>\n",
       "      <td>Movie</td>\n",
       "      <td>Barbie: A Fairy Secret</td>\n",
       "      <td>William Lau</td>\n",
       "      <td>Diana Kaarina, Adrian Petriw, Britt Irvin, Cas...</td>\n",
       "      <td>United States</td>\n",
       "      <td>2017-10-01</td>\n",
       "      <td>2010</td>\n",
       "      <td>TV-Y7</td>\n",
       "      <td>72 min</td>\n",
       "      <td>Children &amp; Family Movies</td>\n",
       "      <td>2017</td>\n",
       "      <td>10</td>\n",
       "      <td>1</td>\n",
       "    </tr>\n",
       "    <tr>\n",
       "      <th>4197</th>\n",
       "      <td>Movie</td>\n",
       "      <td>Baazaar</td>\n",
       "      <td>Gauravv K Chawla</td>\n",
       "      <td>Saif Ali Khan, Chitrangada Singh, Radhika Apte...</td>\n",
       "      <td>India</td>\n",
       "      <td>2019-01-13</td>\n",
       "      <td>2018</td>\n",
       "      <td>TV-MA</td>\n",
       "      <td>136 min</td>\n",
       "      <td>Dramas, International Movies</td>\n",
       "      <td>2019</td>\n",
       "      <td>1</td>\n",
       "      <td>13</td>\n",
       "    </tr>\n",
       "    <tr>\n",
       "      <th>8075</th>\n",
       "      <td>Movie</td>\n",
       "      <td>Spy Kids 2: The Island of Lost Dreams</td>\n",
       "      <td>Robert Rodriguez</td>\n",
       "      <td>Antonio Banderas, Carla Gugino, Alexa PenaVega...</td>\n",
       "      <td>United States</td>\n",
       "      <td>2019-03-08</td>\n",
       "      <td>2002</td>\n",
       "      <td>PG</td>\n",
       "      <td>100 min</td>\n",
       "      <td>Children &amp; Family Movies, Comedies</td>\n",
       "      <td>2019</td>\n",
       "      <td>3</td>\n",
       "      <td>8</td>\n",
       "    </tr>\n",
       "    <tr>\n",
       "      <th>1663</th>\n",
       "      <td>Movie</td>\n",
       "      <td>Dolly Parton’s Christmas on the Square</td>\n",
       "      <td>Debbie Allen</td>\n",
       "      <td>Dolly Parton, Christine Baranski, Treat Willia...</td>\n",
       "      <td>United States</td>\n",
       "      <td>2020-11-22</td>\n",
       "      <td>2020</td>\n",
       "      <td>TV-PG</td>\n",
       "      <td>99 min</td>\n",
       "      <td>Children &amp; Family Movies, Music &amp; Musicals</td>\n",
       "      <td>2020</td>\n",
       "      <td>11</td>\n",
       "      <td>22</td>\n",
       "    </tr>\n",
       "  </tbody>\n",
       "</table>\n",
       "</div>"
      ],
      "text/plain": [
       "       type                                              title  \\\n",
       "8462  Movie  The Power of Grayskull: The Definitive History...   \n",
       "6239  Movie                             Barbie: A Fairy Secret   \n",
       "4197  Movie                                            Baazaar   \n",
       "8075  Movie              Spy Kids 2: The Island of Lost Dreams   \n",
       "1663  Movie             Dolly Parton’s Christmas on the Square   \n",
       "\n",
       "                           director  \\\n",
       "8462  Randall Lobb, Robert McCallum   \n",
       "6239                    William Lau   \n",
       "4197               Gauravv K Chawla   \n",
       "8075               Robert Rodriguez   \n",
       "1663                   Debbie Allen   \n",
       "\n",
       "                                                   cast  \\\n",
       "8462                                      Not Mentioned   \n",
       "6239  Diana Kaarina, Adrian Petriw, Britt Irvin, Cas...   \n",
       "4197  Saif Ali Khan, Chitrangada Singh, Radhika Apte...   \n",
       "8075  Antonio Banderas, Carla Gugino, Alexa PenaVega...   \n",
       "1663  Dolly Parton, Christine Baranski, Treat Willia...   \n",
       "\n",
       "                    country date_added  release_year rating duration  \\\n",
       "8462  Canada, United States 2018-08-24          2017  TV-14   96 min   \n",
       "6239          United States 2017-10-01          2010  TV-Y7   72 min   \n",
       "4197                  India 2019-01-13          2018  TV-MA  136 min   \n",
       "8075          United States 2019-03-08          2002     PG  100 min   \n",
       "1663          United States 2020-11-22          2020  TV-PG   99 min   \n",
       "\n",
       "                                       listed_in  year  month  day  \n",
       "8462                               Documentaries  2018      8   24  \n",
       "6239                    Children & Family Movies  2017     10    1  \n",
       "4197                Dramas, International Movies  2019      1   13  \n",
       "8075          Children & Family Movies, Comedies  2019      3    8  \n",
       "1663  Children & Family Movies, Music & Musicals  2020     11   22  "
      ]
     },
     "execution_count": 75,
     "metadata": {},
     "output_type": "execute_result"
    }
   ],
   "source": [
    "df.sample(5)"
   ]
  },
  {
   "cell_type": "code",
   "execution_count": 77,
   "id": "be7cee02-a607-4b3b-a9ac-0c00f18ff003",
   "metadata": {},
   "outputs": [],
   "source": [
    "df['genre'] = df['listed_in'].str.split(\",\").str[0]"
   ]
  },
  {
   "cell_type": "code",
   "execution_count": 79,
   "id": "9726156d-abb2-4285-92c2-9db13f9566d5",
   "metadata": {},
   "outputs": [
    {
     "data": {
      "text/html": [
       "<div>\n",
       "<style scoped>\n",
       "    .dataframe tbody tr th:only-of-type {\n",
       "        vertical-align: middle;\n",
       "    }\n",
       "\n",
       "    .dataframe tbody tr th {\n",
       "        vertical-align: top;\n",
       "    }\n",
       "\n",
       "    .dataframe thead th {\n",
       "        text-align: right;\n",
       "    }\n",
       "</style>\n",
       "<table border=\"1\" class=\"dataframe\">\n",
       "  <thead>\n",
       "    <tr style=\"text-align: right;\">\n",
       "      <th></th>\n",
       "      <th>type</th>\n",
       "      <th>title</th>\n",
       "      <th>director</th>\n",
       "      <th>cast</th>\n",
       "      <th>country</th>\n",
       "      <th>date_added</th>\n",
       "      <th>release_year</th>\n",
       "      <th>rating</th>\n",
       "      <th>duration</th>\n",
       "      <th>listed_in</th>\n",
       "      <th>year</th>\n",
       "      <th>month</th>\n",
       "      <th>day</th>\n",
       "      <th>genre</th>\n",
       "    </tr>\n",
       "  </thead>\n",
       "  <tbody>\n",
       "    <tr>\n",
       "      <th>1670</th>\n",
       "      <td>TV Show</td>\n",
       "      <td>Mismatched</td>\n",
       "      <td>Not Mentioned</td>\n",
       "      <td>Prajakta Koli, Rohit Saraf, Vihaan Samat, Taar...</td>\n",
       "      <td>India</td>\n",
       "      <td>2020-11-20</td>\n",
       "      <td>2020</td>\n",
       "      <td>TV-MA</td>\n",
       "      <td>1 Season</td>\n",
       "      <td>International TV Shows, Romantic TV Shows, TV ...</td>\n",
       "      <td>2020</td>\n",
       "      <td>11</td>\n",
       "      <td>20</td>\n",
       "      <td>International TV Shows</td>\n",
       "    </tr>\n",
       "    <tr>\n",
       "      <th>124</th>\n",
       "      <td>TV Show</td>\n",
       "      <td>Pororo - The Little Penguin</td>\n",
       "      <td>Not Mentioned</td>\n",
       "      <td>Not Mentioned</td>\n",
       "      <td>South Korea</td>\n",
       "      <td>2021-09-02</td>\n",
       "      <td>2013</td>\n",
       "      <td>TV-Y7</td>\n",
       "      <td>3 Seasons</td>\n",
       "      <td>Kids' TV, Korean TV Shows</td>\n",
       "      <td>2021</td>\n",
       "      <td>9</td>\n",
       "      <td>2</td>\n",
       "      <td>Kids' TV</td>\n",
       "    </tr>\n",
       "    <tr>\n",
       "      <th>3498</th>\n",
       "      <td>Movie</td>\n",
       "      <td>Do Paise Ki Dhoop Chaar Aane Ki Baarish</td>\n",
       "      <td>Deepti Naval</td>\n",
       "      <td>Manisha Koirala, Rajit Kapoor, Sanaj Naval, Ra...</td>\n",
       "      <td>India</td>\n",
       "      <td>2019-09-22</td>\n",
       "      <td>2009</td>\n",
       "      <td>TV-MA</td>\n",
       "      <td>121 min</td>\n",
       "      <td>Dramas, Independent Movies, International Movies</td>\n",
       "      <td>2019</td>\n",
       "      <td>9</td>\n",
       "      <td>22</td>\n",
       "      <td>Dramas</td>\n",
       "    </tr>\n",
       "    <tr>\n",
       "      <th>2576</th>\n",
       "      <td>Movie</td>\n",
       "      <td>All Day and a Night</td>\n",
       "      <td>Joe Robert Cole</td>\n",
       "      <td>Jeffrey Wright, Ashton Sanders, Regina Taylor,...</td>\n",
       "      <td>United States</td>\n",
       "      <td>2020-05-01</td>\n",
       "      <td>2020</td>\n",
       "      <td>R</td>\n",
       "      <td>122 min</td>\n",
       "      <td>Dramas, Independent Movies</td>\n",
       "      <td>2020</td>\n",
       "      <td>5</td>\n",
       "      <td>1</td>\n",
       "      <td>Dramas</td>\n",
       "    </tr>\n",
       "    <tr>\n",
       "      <th>1428</th>\n",
       "      <td>Movie</td>\n",
       "      <td>Is Love Enough? Sir</td>\n",
       "      <td>Rohena Gera</td>\n",
       "      <td>Tillotama Shome, Vivek Gomber, Geetanjali Kulk...</td>\n",
       "      <td>India, France</td>\n",
       "      <td>2021-01-08</td>\n",
       "      <td>2018</td>\n",
       "      <td>TV-MA</td>\n",
       "      <td>99 min</td>\n",
       "      <td>Dramas, Independent Movies, International Movies</td>\n",
       "      <td>2021</td>\n",
       "      <td>1</td>\n",
       "      <td>8</td>\n",
       "      <td>Dramas</td>\n",
       "    </tr>\n",
       "  </tbody>\n",
       "</table>\n",
       "</div>"
      ],
      "text/plain": [
       "         type                                    title         director  \\\n",
       "1670  TV Show                               Mismatched    Not Mentioned   \n",
       "124   TV Show              Pororo - The Little Penguin    Not Mentioned   \n",
       "3498    Movie  Do Paise Ki Dhoop Chaar Aane Ki Baarish     Deepti Naval   \n",
       "2576    Movie                      All Day and a Night  Joe Robert Cole   \n",
       "1428    Movie                      Is Love Enough? Sir      Rohena Gera   \n",
       "\n",
       "                                                   cast        country  \\\n",
       "1670  Prajakta Koli, Rohit Saraf, Vihaan Samat, Taar...          India   \n",
       "124                                       Not Mentioned    South Korea   \n",
       "3498  Manisha Koirala, Rajit Kapoor, Sanaj Naval, Ra...          India   \n",
       "2576  Jeffrey Wright, Ashton Sanders, Regina Taylor,...  United States   \n",
       "1428  Tillotama Shome, Vivek Gomber, Geetanjali Kulk...  India, France   \n",
       "\n",
       "     date_added  release_year rating   duration  \\\n",
       "1670 2020-11-20          2020  TV-MA   1 Season   \n",
       "124  2021-09-02          2013  TV-Y7  3 Seasons   \n",
       "3498 2019-09-22          2009  TV-MA    121 min   \n",
       "2576 2020-05-01          2020      R    122 min   \n",
       "1428 2021-01-08          2018  TV-MA     99 min   \n",
       "\n",
       "                                              listed_in  year  month  day  \\\n",
       "1670  International TV Shows, Romantic TV Shows, TV ...  2020     11   20   \n",
       "124                           Kids' TV, Korean TV Shows  2021      9    2   \n",
       "3498   Dramas, Independent Movies, International Movies  2019      9   22   \n",
       "2576                         Dramas, Independent Movies  2020      5    1   \n",
       "1428   Dramas, Independent Movies, International Movies  2021      1    8   \n",
       "\n",
       "                       genre  \n",
       "1670  International TV Shows  \n",
       "124                 Kids' TV  \n",
       "3498                  Dramas  \n",
       "2576                  Dramas  \n",
       "1428                  Dramas  "
      ]
     },
     "execution_count": 79,
     "metadata": {},
     "output_type": "execute_result"
    }
   ],
   "source": [
    "df.sample(5)"
   ]
  },
  {
   "cell_type": "code",
   "execution_count": 81,
   "id": "d1f4beac-d764-46dc-8c99-34258ac1a95a",
   "metadata": {},
   "outputs": [
    {
     "data": {
      "text/plain": [
       "genre\n",
       "Dramas                    1600\n",
       "Comedies                  1210\n",
       "Action & Adventure         859\n",
       "Documentaries              829\n",
       "International TV Shows     774\n",
       "Name: count, dtype: int64"
      ]
     },
     "execution_count": 81,
     "metadata": {},
     "output_type": "execute_result"
    }
   ],
   "source": [
    "df['genre'].value_counts().head()"
   ]
  },
  {
   "cell_type": "code",
   "execution_count": 83,
   "id": "1ebbdb0d-61c6-4a5e-93c2-62a2ff22f2bd",
   "metadata": {},
   "outputs": [
    {
     "data": {
      "text/plain": [
       "array(['Not Mentioned',\n",
       "       'Ama Qamata, Khosi Ngema, Gail Mabalane, Thabang Molaba, Dillon Windvogel, Natasha Thahane, Arno Greeff, Xolile Tshabalala, Getmore Sithole, Cindy Mahlangu, Ryle De Morny, Greteli Fincham, Sello Maake Ka-Ncube, Odwa Gwanya, Mekaila Mathys, Sandi Schultz, Duane Williams, Shamilla Miller, Patrick Mofokeng',\n",
       "       'Sami Bouajila, Tracy Gotoas, Samuel Jouy, Nabiha Akkari, Sofia Lesaffre, Salim Kechiouche, Noureddine Farihi, Geert Van Rampelberg, Bakary Diombera',\n",
       "       ...,\n",
       "       'Jesse Eisenberg, Woody Harrelson, Emma Stone, Abigail Breslin, Amber Heard, Bill Murray, Derek Graf',\n",
       "       'Tim Allen, Courteney Cox, Chevy Chase, Kate Mara, Ryan Newman, Michael Cassidy, Spencer Breslin, Rip Torn, Kevin Zegers',\n",
       "       'Vicky Kaushal, Sarah-Jane Dias, Raaghav Chanana, Manish Chaudhary, Meghna Malik, Malkeet Rauni, Anita Shabdish, Chittaranjan Tripathy'],\n",
       "      dtype=object)"
      ]
     },
     "execution_count": 83,
     "metadata": {},
     "output_type": "execute_result"
    }
   ],
   "source": [
    "df[\"cast\"].unique()"
   ]
  },
  {
   "cell_type": "code",
   "execution_count": 85,
   "id": "0c5dfa8a-4332-4ed1-a712-17961384fdaa",
   "metadata": {},
   "outputs": [
    {
     "data": {
      "text/plain": [
       "array(['Ama Qamata, Khosi Ngema, Gail Mabalane, Thabang Molaba, Dillon Windvogel, Natasha Thahane, Arno Greeff, Xolile Tshabalala, Getmore Sithole, Cindy Mahlangu, Ryle De Morny, Greteli Fincham, Sello Maake Ka-Ncube, Odwa Gwanya, Mekaila Mathys, Sandi Schultz, Duane Williams, Shamilla Miller, Patrick Mofokeng',\n",
       "       'Sami Bouajila, Tracy Gotoas, Samuel Jouy, Nabiha Akkari, Sofia Lesaffre, Salim Kechiouche, Noureddine Farihi, Geert Van Rampelberg, Bakary Diombera',\n",
       "       'Mayur More, Jitendra Kumar, Ranjan Raj, Alam Khan, Ahsaas Channa, Revathi Pillai, Urvi Singh, Arun Kumar',\n",
       "       ...,\n",
       "       'Jesse Eisenberg, Woody Harrelson, Emma Stone, Abigail Breslin, Amber Heard, Bill Murray, Derek Graf',\n",
       "       'Tim Allen, Courteney Cox, Chevy Chase, Kate Mara, Ryan Newman, Michael Cassidy, Spencer Breslin, Rip Torn, Kevin Zegers',\n",
       "       'Vicky Kaushal, Sarah-Jane Dias, Raaghav Chanana, Manish Chaudhary, Meghna Malik, Malkeet Rauni, Anita Shabdish, Chittaranjan Tripathy'],\n",
       "      dtype=object)"
      ]
     },
     "execution_count": 85,
     "metadata": {},
     "output_type": "execute_result"
    }
   ],
   "source": [
    "df = df[df[\"cast\"]!=\"Not Mentioned\"]\n",
    "df[\"cast\"].unique()"
   ]
  },
  {
   "cell_type": "code",
   "execution_count": 87,
   "id": "f15608ec-3a64-4036-b148-f7ee94e86085",
   "metadata": {},
   "outputs": [],
   "source": [
    "df[\"lead_actor\"] = df[\"cast\"].str.split(\",\").str[0]\n"
   ]
  },
  {
   "cell_type": "code",
   "execution_count": 89,
   "id": "a46a301e-4090-4afb-8459-a57692a40336",
   "metadata": {},
   "outputs": [
    {
     "data": {
      "text/plain": [
       "lead_actor\n",
       "Shah Rukh Khan        26\n",
       "Akshay Kumar          23\n",
       "David Attenborough    20\n",
       "Adam Sandler          20\n",
       "Amitabh Bachchan      20\n",
       "Name: count, dtype: int64"
      ]
     },
     "execution_count": 89,
     "metadata": {},
     "output_type": "execute_result"
    }
   ],
   "source": [
    "df[\"lead_actor\"].value_counts().head(5)"
   ]
  },
  {
   "cell_type": "code",
   "execution_count": 91,
   "id": "16c3ef74-a4de-435f-b805-2eeb47e9c290",
   "metadata": {},
   "outputs": [],
   "source": [
    "df.drop([\"cast\",\"listed_in\",\"date_added\"],axis=1,inplace=True)"
   ]
  },
  {
   "cell_type": "code",
   "execution_count": 93,
   "id": "522743a8-c761-461b-b2a1-eb62480d8f21",
   "metadata": {},
   "outputs": [
    {
     "data": {
      "text/html": [
       "<div>\n",
       "<style scoped>\n",
       "    .dataframe tbody tr th:only-of-type {\n",
       "        vertical-align: middle;\n",
       "    }\n",
       "\n",
       "    .dataframe tbody tr th {\n",
       "        vertical-align: top;\n",
       "    }\n",
       "\n",
       "    .dataframe thead th {\n",
       "        text-align: right;\n",
       "    }\n",
       "</style>\n",
       "<table border=\"1\" class=\"dataframe\">\n",
       "  <thead>\n",
       "    <tr style=\"text-align: right;\">\n",
       "      <th></th>\n",
       "      <th>type</th>\n",
       "      <th>title</th>\n",
       "      <th>director</th>\n",
       "      <th>country</th>\n",
       "      <th>release_year</th>\n",
       "      <th>rating</th>\n",
       "      <th>duration</th>\n",
       "      <th>year</th>\n",
       "      <th>month</th>\n",
       "      <th>day</th>\n",
       "      <th>genre</th>\n",
       "      <th>lead_actor</th>\n",
       "    </tr>\n",
       "  </thead>\n",
       "  <tbody>\n",
       "    <tr>\n",
       "      <th>2151</th>\n",
       "      <td>TV Show</td>\n",
       "      <td>High Seas</td>\n",
       "      <td>Not Mentioned</td>\n",
       "      <td>Spain</td>\n",
       "      <td>2020</td>\n",
       "      <td>TV-MA</td>\n",
       "      <td>3 Seasons</td>\n",
       "      <td>2020</td>\n",
       "      <td>8</td>\n",
       "      <td>7</td>\n",
       "      <td>Crime TV Shows</td>\n",
       "      <td>Ivana Baquero</td>\n",
       "    </tr>\n",
       "    <tr>\n",
       "      <th>34</th>\n",
       "      <td>TV Show</td>\n",
       "      <td>Tayo and Little Wizards</td>\n",
       "      <td>Not Mentioned</td>\n",
       "      <td>United States</td>\n",
       "      <td>2020</td>\n",
       "      <td>TV-Y7</td>\n",
       "      <td>1 Season</td>\n",
       "      <td>2021</td>\n",
       "      <td>9</td>\n",
       "      <td>17</td>\n",
       "      <td>Kids' TV</td>\n",
       "      <td>Dami Lee</td>\n",
       "    </tr>\n",
       "    <tr>\n",
       "      <th>4036</th>\n",
       "      <td>Movie</td>\n",
       "      <td>Walk. Ride. Rodeo.</td>\n",
       "      <td>Conor Allyn</td>\n",
       "      <td>United States</td>\n",
       "      <td>2019</td>\n",
       "      <td>TV-PG</td>\n",
       "      <td>100 min</td>\n",
       "      <td>2019</td>\n",
       "      <td>3</td>\n",
       "      <td>8</td>\n",
       "      <td>Children &amp; Family Movies</td>\n",
       "      <td>Spencer Locke</td>\n",
       "    </tr>\n",
       "    <tr>\n",
       "      <th>6610</th>\n",
       "      <td>Movie</td>\n",
       "      <td>Dil Hai Tumhaara</td>\n",
       "      <td>Kundan Shah</td>\n",
       "      <td>India</td>\n",
       "      <td>2002</td>\n",
       "      <td>TV-14</td>\n",
       "      <td>176 min</td>\n",
       "      <td>2018</td>\n",
       "      <td>4</td>\n",
       "      <td>1</td>\n",
       "      <td>Dramas</td>\n",
       "      <td>Rekha</td>\n",
       "    </tr>\n",
       "    <tr>\n",
       "      <th>5568</th>\n",
       "      <td>Movie</td>\n",
       "      <td>Pandora</td>\n",
       "      <td>Jung-woo Park</td>\n",
       "      <td>South Korea</td>\n",
       "      <td>2016</td>\n",
       "      <td>TV-MA</td>\n",
       "      <td>137 min</td>\n",
       "      <td>2017</td>\n",
       "      <td>3</td>\n",
       "      <td>17</td>\n",
       "      <td>Dramas</td>\n",
       "      <td>Nam-gil Kim</td>\n",
       "    </tr>\n",
       "  </tbody>\n",
       "</table>\n",
       "</div>"
      ],
      "text/plain": [
       "         type                    title       director        country  \\\n",
       "2151  TV Show                High Seas  Not Mentioned          Spain   \n",
       "34    TV Show  Tayo and Little Wizards  Not Mentioned  United States   \n",
       "4036    Movie       Walk. Ride. Rodeo.    Conor Allyn  United States   \n",
       "6610    Movie         Dil Hai Tumhaara    Kundan Shah          India   \n",
       "5568    Movie                  Pandora  Jung-woo Park    South Korea   \n",
       "\n",
       "      release_year rating   duration  year  month  day  \\\n",
       "2151          2020  TV-MA  3 Seasons  2020      8    7   \n",
       "34            2020  TV-Y7   1 Season  2021      9   17   \n",
       "4036          2019  TV-PG    100 min  2019      3    8   \n",
       "6610          2002  TV-14    176 min  2018      4    1   \n",
       "5568          2016  TV-MA    137 min  2017      3   17   \n",
       "\n",
       "                         genre     lead_actor  \n",
       "2151            Crime TV Shows  Ivana Baquero  \n",
       "34                    Kids' TV       Dami Lee  \n",
       "4036  Children & Family Movies  Spencer Locke  \n",
       "6610                    Dramas          Rekha  \n",
       "5568                    Dramas    Nam-gil Kim  "
      ]
     },
     "execution_count": 93,
     "metadata": {},
     "output_type": "execute_result"
    }
   ],
   "source": [
    "df.sample(5)"
   ]
  },
  {
   "cell_type": "code",
   "execution_count": 95,
   "id": "c8fad3c2-5c3a-4cc9-9cce-48f176932511",
   "metadata": {},
   "outputs": [],
   "source": [
    "df.to_csv(\"cleaned_data.csv\")"
   ]
  },
  {
   "cell_type": "code",
   "execution_count": null,
   "id": "1668eed9-9c60-4fca-b4be-797bc23b4986",
   "metadata": {},
   "outputs": [],
   "source": []
  },
  {
   "cell_type": "code",
   "execution_count": null,
   "id": "cdc3a1da-ac81-4de2-b31b-4ef760f620ce",
   "metadata": {},
   "outputs": [],
   "source": []
  },
  {
   "cell_type": "code",
   "execution_count": null,
   "id": "94d5828f-6c83-4a23-944f-56ea984b2740",
   "metadata": {},
   "outputs": [],
   "source": []
  }
 ],
 "metadata": {
  "kernelspec": {
   "display_name": "Python 3 (ipykernel)",
   "language": "python",
   "name": "python3"
  },
  "language_info": {
   "codemirror_mode": {
    "name": "ipython",
    "version": 3
   },
   "file_extension": ".py",
   "mimetype": "text/x-python",
   "name": "python",
   "nbconvert_exporter": "python",
   "pygments_lexer": "ipython3",
   "version": "3.12.7"
  }
 },
 "nbformat": 4,
 "nbformat_minor": 5
}
