{
 "cells": [
  {
   "cell_type": "code",
   "execution_count": 9,
   "id": "140c4cac-016c-47ff-9ec8-31ca2e189e2b",
   "metadata": {},
   "outputs": [],
   "source": [
    "import numpy as np\n",
    "import pandas as pd"
   ]
  },
  {
   "cell_type": "code",
   "execution_count": 11,
   "id": "16d6bc7e-7728-4a9d-aa35-29bb4e9f7761",
   "metadata": {},
   "outputs": [],
   "source": [
    "df = pd.read_csv('netflix_titles.csv')"
   ]
  },
  {
   "cell_type": "code",
   "execution_count": 13,
   "id": "f3af9a49-e950-4fe1-b7e0-184770c32f91",
   "metadata": {},
   "outputs": [
    {
     "data": {
      "text/html": [
       "<div>\n",
       "<style scoped>\n",
       "    .dataframe tbody tr th:only-of-type {\n",
       "        vertical-align: middle;\n",
       "    }\n",
       "\n",
       "    .dataframe tbody tr th {\n",
       "        vertical-align: top;\n",
       "    }\n",
       "\n",
       "    .dataframe thead th {\n",
       "        text-align: right;\n",
       "    }\n",
       "</style>\n",
       "<table border=\"1\" class=\"dataframe\">\n",
       "  <thead>\n",
       "    <tr style=\"text-align: right;\">\n",
       "      <th></th>\n",
       "      <th>show_id</th>\n",
       "      <th>type</th>\n",
       "      <th>title</th>\n",
       "      <th>director</th>\n",
       "      <th>cast</th>\n",
       "      <th>country</th>\n",
       "      <th>date_added</th>\n",
       "      <th>release_year</th>\n",
       "      <th>rating</th>\n",
       "      <th>duration</th>\n",
       "      <th>listed_in</th>\n",
       "      <th>description</th>\n",
       "    </tr>\n",
       "  </thead>\n",
       "  <tbody>\n",
       "    <tr>\n",
       "      <th>7189</th>\n",
       "      <td>s7190</td>\n",
       "      <td>Movie</td>\n",
       "      <td>Khushi</td>\n",
       "      <td>Surya S.J., Sunil Kumar Agrawal</td>\n",
       "      <td>Fardeen Khan, Kareena Kapoor, Amrish Puri, Nav...</td>\n",
       "      <td>India</td>\n",
       "      <td>March 1, 2018</td>\n",
       "      <td>2003</td>\n",
       "      <td>TV-14</td>\n",
       "      <td>157 min</td>\n",
       "      <td>Comedies, International Movies, Music &amp; Musicals</td>\n",
       "      <td>While playing matchmaker to a pair of their fr...</td>\n",
       "    </tr>\n",
       "    <tr>\n",
       "      <th>8731</th>\n",
       "      <td>s8732</td>\n",
       "      <td>Movie</td>\n",
       "      <td>While We're Young</td>\n",
       "      <td>Noah Baumbach</td>\n",
       "      <td>Ben Stiller, Naomi Watts, Adam Driver, Amanda ...</td>\n",
       "      <td>United States</td>\n",
       "      <td>October 23, 2017</td>\n",
       "      <td>2015</td>\n",
       "      <td>R</td>\n",
       "      <td>97 min</td>\n",
       "      <td>Comedies, Dramas, Independent Movies</td>\n",
       "      <td>A documentary filmmaker struggling with a crea...</td>\n",
       "    </tr>\n",
       "    <tr>\n",
       "      <th>864</th>\n",
       "      <td>s865</td>\n",
       "      <td>Movie</td>\n",
       "      <td>Taxi No. 9211</td>\n",
       "      <td>Milan Luthria</td>\n",
       "      <td>Nana Patekar, John Abraham, Sameera Reddy, Son...</td>\n",
       "      <td>NaN</td>\n",
       "      <td>May 20, 2021</td>\n",
       "      <td>2006</td>\n",
       "      <td>TV-14</td>\n",
       "      <td>116 min</td>\n",
       "      <td>Dramas, International Movies, Thrillers</td>\n",
       "      <td>When an arrogant scion hails his taxi, a cabbi...</td>\n",
       "    </tr>\n",
       "    <tr>\n",
       "      <th>4365</th>\n",
       "      <td>s4366</td>\n",
       "      <td>TV Show</td>\n",
       "      <td>Frontier</td>\n",
       "      <td>NaN</td>\n",
       "      <td>Jason Momoa, Landon Liboiron, Alun Armstrong, ...</td>\n",
       "      <td>Canada</td>\n",
       "      <td>November 23, 2018</td>\n",
       "      <td>2018</td>\n",
       "      <td>TV-MA</td>\n",
       "      <td>3 Seasons</td>\n",
       "      <td>International TV Shows, TV Action &amp; Adventure,...</td>\n",
       "      <td>In 18th-century North America, ruthless trappe...</td>\n",
       "    </tr>\n",
       "    <tr>\n",
       "      <th>7490</th>\n",
       "      <td>s7491</td>\n",
       "      <td>Movie</td>\n",
       "      <td>Monster High: Boo York, Boo York</td>\n",
       "      <td>William Lau</td>\n",
       "      <td>Karen Strassman, Celeste Henderson, Wendee Lee...</td>\n",
       "      <td>United States</td>\n",
       "      <td>September 29, 2015</td>\n",
       "      <td>2015</td>\n",
       "      <td>TV-Y7</td>\n",
       "      <td>72 min</td>\n",
       "      <td>Children &amp; Family Movies, Music &amp; Musicals</td>\n",
       "      <td>Cleo is invited to a gala in the big city cele...</td>\n",
       "    </tr>\n",
       "  </tbody>\n",
       "</table>\n",
       "</div>"
      ],
      "text/plain": [
       "     show_id     type                             title  \\\n",
       "7189   s7190    Movie                            Khushi   \n",
       "8731   s8732    Movie                 While We're Young   \n",
       "864     s865    Movie                     Taxi No. 9211   \n",
       "4365   s4366  TV Show                          Frontier   \n",
       "7490   s7491    Movie  Monster High: Boo York, Boo York   \n",
       "\n",
       "                             director  \\\n",
       "7189  Surya S.J., Sunil Kumar Agrawal   \n",
       "8731                    Noah Baumbach   \n",
       "864                     Milan Luthria   \n",
       "4365                              NaN   \n",
       "7490                      William Lau   \n",
       "\n",
       "                                                   cast        country  \\\n",
       "7189  Fardeen Khan, Kareena Kapoor, Amrish Puri, Nav...          India   \n",
       "8731  Ben Stiller, Naomi Watts, Adam Driver, Amanda ...  United States   \n",
       "864   Nana Patekar, John Abraham, Sameera Reddy, Son...            NaN   \n",
       "4365  Jason Momoa, Landon Liboiron, Alun Armstrong, ...         Canada   \n",
       "7490  Karen Strassman, Celeste Henderson, Wendee Lee...  United States   \n",
       "\n",
       "              date_added  release_year rating   duration  \\\n",
       "7189       March 1, 2018          2003  TV-14    157 min   \n",
       "8731    October 23, 2017          2015      R     97 min   \n",
       "864         May 20, 2021          2006  TV-14    116 min   \n",
       "4365   November 23, 2018          2018  TV-MA  3 Seasons   \n",
       "7490  September 29, 2015          2015  TV-Y7     72 min   \n",
       "\n",
       "                                              listed_in  \\\n",
       "7189   Comedies, International Movies, Music & Musicals   \n",
       "8731               Comedies, Dramas, Independent Movies   \n",
       "864             Dramas, International Movies, Thrillers   \n",
       "4365  International TV Shows, TV Action & Adventure,...   \n",
       "7490         Children & Family Movies, Music & Musicals   \n",
       "\n",
       "                                            description  \n",
       "7189  While playing matchmaker to a pair of their fr...  \n",
       "8731  A documentary filmmaker struggling with a crea...  \n",
       "864   When an arrogant scion hails his taxi, a cabbi...  \n",
       "4365  In 18th-century North America, ruthless trappe...  \n",
       "7490  Cleo is invited to a gala in the big city cele...  "
      ]
     },
     "execution_count": 13,
     "metadata": {},
     "output_type": "execute_result"
    }
   ],
   "source": [
    "df.sample(5)\n"
   ]
  },
  {
   "cell_type": "code",
   "execution_count": 15,
   "id": "051cf2cd-cb1e-40a7-8d34-5dc2eb224407",
   "metadata": {},
   "outputs": [],
   "source": [
    "df.drop([\"show_id\",\"description\"], axis=1, inplace=True)"
   ]
  },
  {
   "cell_type": "code",
   "execution_count": 17,
   "id": "767f1f77-a064-41a0-acc9-e45c2f024aed",
   "metadata": {},
   "outputs": [
    {
     "data": {
      "text/html": [
       "<div>\n",
       "<style scoped>\n",
       "    .dataframe tbody tr th:only-of-type {\n",
       "        vertical-align: middle;\n",
       "    }\n",
       "\n",
       "    .dataframe tbody tr th {\n",
       "        vertical-align: top;\n",
       "    }\n",
       "\n",
       "    .dataframe thead th {\n",
       "        text-align: right;\n",
       "    }\n",
       "</style>\n",
       "<table border=\"1\" class=\"dataframe\">\n",
       "  <thead>\n",
       "    <tr style=\"text-align: right;\">\n",
       "      <th></th>\n",
       "      <th>type</th>\n",
       "      <th>title</th>\n",
       "      <th>director</th>\n",
       "      <th>cast</th>\n",
       "      <th>country</th>\n",
       "      <th>date_added</th>\n",
       "      <th>release_year</th>\n",
       "      <th>rating</th>\n",
       "      <th>duration</th>\n",
       "      <th>listed_in</th>\n",
       "    </tr>\n",
       "  </thead>\n",
       "  <tbody>\n",
       "    <tr>\n",
       "      <th>2598</th>\n",
       "      <td>TV Show</td>\n",
       "      <td>DRIFTING DRAGONS</td>\n",
       "      <td>NaN</td>\n",
       "      <td>Tomoaki Maeno, Sora Amamiya, Soma Saito, Kana ...</td>\n",
       "      <td>Japan</td>\n",
       "      <td>April 30, 2020</td>\n",
       "      <td>2020</td>\n",
       "      <td>TV-14</td>\n",
       "      <td>1 Season</td>\n",
       "      <td>Anime Series, International TV Shows</td>\n",
       "    </tr>\n",
       "    <tr>\n",
       "      <th>4552</th>\n",
       "      <td>Movie</td>\n",
       "      <td>Monty Python's Life of Brian</td>\n",
       "      <td>Terry Jones</td>\n",
       "      <td>Graham Chapman, John Cleese, Terry Gilliam, Er...</td>\n",
       "      <td>United Kingdom</td>\n",
       "      <td>October 2, 2018</td>\n",
       "      <td>1979</td>\n",
       "      <td>R</td>\n",
       "      <td>94 min</td>\n",
       "      <td>Classic Movies, Comedies, Cult Movies</td>\n",
       "    </tr>\n",
       "    <tr>\n",
       "      <th>2826</th>\n",
       "      <td>TV Show</td>\n",
       "      <td>On My Block</td>\n",
       "      <td>NaN</td>\n",
       "      <td>Sierra Capri, Jason Genao, Brett Gray, Diego T...</td>\n",
       "      <td>United States</td>\n",
       "      <td>March 11, 2020</td>\n",
       "      <td>2020</td>\n",
       "      <td>TV-14</td>\n",
       "      <td>3 Seasons</td>\n",
       "      <td>Romantic TV Shows, TV Comedies, TV Dramas</td>\n",
       "    </tr>\n",
       "    <tr>\n",
       "      <th>1107</th>\n",
       "      <td>Movie</td>\n",
       "      <td>God Calling</td>\n",
       "      <td>BB Sasore</td>\n",
       "      <td>Zainab Balogun, Karibi Fubara, Diana Egwuatu, ...</td>\n",
       "      <td>Nigeria</td>\n",
       "      <td>April 2, 2021</td>\n",
       "      <td>2018</td>\n",
       "      <td>TV-MA</td>\n",
       "      <td>120 min</td>\n",
       "      <td>Dramas, Faith &amp; Spirituality, International Mo...</td>\n",
       "    </tr>\n",
       "    <tr>\n",
       "      <th>7719</th>\n",
       "      <td>Movie</td>\n",
       "      <td>Paying Guests</td>\n",
       "      <td>Paritosh Painter</td>\n",
       "      <td>Shreyas Talpade, Javed Jaffrey, Aashish Chaudh...</td>\n",
       "      <td>India</td>\n",
       "      <td>July 1, 2018</td>\n",
       "      <td>2009</td>\n",
       "      <td>TV-14</td>\n",
       "      <td>114 min</td>\n",
       "      <td>Comedies, International Movies</td>\n",
       "    </tr>\n",
       "  </tbody>\n",
       "</table>\n",
       "</div>"
      ],
      "text/plain": [
       "         type                         title          director  \\\n",
       "2598  TV Show              DRIFTING DRAGONS               NaN   \n",
       "4552    Movie  Monty Python's Life of Brian       Terry Jones   \n",
       "2826  TV Show                   On My Block               NaN   \n",
       "1107    Movie                   God Calling         BB Sasore   \n",
       "7719    Movie                 Paying Guests  Paritosh Painter   \n",
       "\n",
       "                                                   cast         country  \\\n",
       "2598  Tomoaki Maeno, Sora Amamiya, Soma Saito, Kana ...           Japan   \n",
       "4552  Graham Chapman, John Cleese, Terry Gilliam, Er...  United Kingdom   \n",
       "2826  Sierra Capri, Jason Genao, Brett Gray, Diego T...   United States   \n",
       "1107  Zainab Balogun, Karibi Fubara, Diana Egwuatu, ...         Nigeria   \n",
       "7719  Shreyas Talpade, Javed Jaffrey, Aashish Chaudh...           India   \n",
       "\n",
       "           date_added  release_year rating   duration  \\\n",
       "2598   April 30, 2020          2020  TV-14   1 Season   \n",
       "4552  October 2, 2018          1979      R     94 min   \n",
       "2826   March 11, 2020          2020  TV-14  3 Seasons   \n",
       "1107    April 2, 2021          2018  TV-MA    120 min   \n",
       "7719     July 1, 2018          2009  TV-14    114 min   \n",
       "\n",
       "                                              listed_in  \n",
       "2598               Anime Series, International TV Shows  \n",
       "4552              Classic Movies, Comedies, Cult Movies  \n",
       "2826          Romantic TV Shows, TV Comedies, TV Dramas  \n",
       "1107  Dramas, Faith & Spirituality, International Mo...  \n",
       "7719                     Comedies, International Movies  "
      ]
     },
     "execution_count": 17,
     "metadata": {},
     "output_type": "execute_result"
    }
   ],
   "source": [
    "df.sample(5)"
   ]
  },
  {
   "cell_type": "code",
   "execution_count": 19,
   "id": "330cf636-f281-4652-a9b3-6e564cb52faa",
   "metadata": {},
   "outputs": [
    {
     "data": {
      "text/plain": [
       "(8807, 10)"
      ]
     },
     "execution_count": 19,
     "metadata": {},
     "output_type": "execute_result"
    }
   ],
   "source": [
    "df.shape"
   ]
  },
  {
   "cell_type": "code",
   "execution_count": 21,
   "id": "a3c361c7-184e-4fb3-8bd4-599d55f0f894",
   "metadata": {},
   "outputs": [
    {
     "data": {
      "text/plain": [
       "Index(['type', 'title', 'director', 'cast', 'country', 'date_added',\n",
       "       'release_year', 'rating', 'duration', 'listed_in'],\n",
       "      dtype='object')"
      ]
     },
     "execution_count": 21,
     "metadata": {},
     "output_type": "execute_result"
    }
   ],
   "source": [
    "df.columns"
   ]
  },
  {
   "cell_type": "code",
   "execution_count": 23,
   "id": "499c2612-6f9e-4010-b992-465f56a6fafe",
   "metadata": {},
   "outputs": [
    {
     "name": "stdout",
     "output_type": "stream",
     "text": [
      "<class 'pandas.core.frame.DataFrame'>\n",
      "RangeIndex: 8807 entries, 0 to 8806\n",
      "Data columns (total 10 columns):\n",
      " #   Column        Non-Null Count  Dtype \n",
      "---  ------        --------------  ----- \n",
      " 0   type          8807 non-null   object\n",
      " 1   title         8807 non-null   object\n",
      " 2   director      6173 non-null   object\n",
      " 3   cast          7982 non-null   object\n",
      " 4   country       7976 non-null   object\n",
      " 5   date_added    8797 non-null   object\n",
      " 6   release_year  8807 non-null   int64 \n",
      " 7   rating        8803 non-null   object\n",
      " 8   duration      8804 non-null   object\n",
      " 9   listed_in     8807 non-null   object\n",
      "dtypes: int64(1), object(9)\n",
      "memory usage: 688.2+ KB\n"
     ]
    }
   ],
   "source": [
    "df.info()"
   ]
  },
  {
   "cell_type": "code",
   "execution_count": 25,
   "id": "e831b813-56cb-44b1-891a-99c1c3cefdb0",
   "metadata": {},
   "outputs": [
    {
     "data": {
      "text/plain": [
       "type               0\n",
       "title              0\n",
       "director        2634\n",
       "cast             825\n",
       "country          831\n",
       "date_added        10\n",
       "release_year       0\n",
       "rating             4\n",
       "duration           3\n",
       "listed_in          0\n",
       "dtype: int64"
      ]
     },
     "execution_count": 25,
     "metadata": {},
     "output_type": "execute_result"
    }
   ],
   "source": [
    "df.isna().sum()"
   ]
  },
  {
   "cell_type": "code",
   "execution_count": 27,
   "id": "9e82fe07-3ddb-488e-9513-467036ac75f9",
   "metadata": {},
   "outputs": [
    {
     "data": {
      "text/plain": [
       "country\n",
       "United States                             2818\n",
       "India                                      972\n",
       "United Kingdom                             419\n",
       "Japan                                      245\n",
       "South Korea                                199\n",
       "                                          ... \n",
       "Romania, Bulgaria, Hungary                   1\n",
       "Uruguay, Guatemala                           1\n",
       "France, Senegal, Belgium                     1\n",
       "Mexico, United States, Spain, Colombia       1\n",
       "United Arab Emirates, Jordan                 1\n",
       "Name: count, Length: 748, dtype: int64"
      ]
     },
     "execution_count": 27,
     "metadata": {},
     "output_type": "execute_result"
    }
   ],
   "source": [
    "df[\"country\"].value_counts()"
   ]
  },
  {
   "cell_type": "code",
   "execution_count": 29,
   "id": "b0c0d9dd-c0c7-4c07-bff6-dde0e2fc7ffe",
   "metadata": {},
   "outputs": [
    {
     "data": {
      "text/plain": [
       "country\n",
       "United States     2818\n",
       "India              972\n",
       "United Kingdom     419\n",
       "Name: count, dtype: int64"
      ]
     },
     "execution_count": 29,
     "metadata": {},
     "output_type": "execute_result"
    }
   ],
   "source": [
    "df[\"country\"].value_counts().head(3)\n"
   ]
  },
  {
   "cell_type": "code",
   "execution_count": 31,
   "id": "ae421f85-9d35-4ad2-b76c-8512e15d6b08",
   "metadata": {},
   "outputs": [
    {
     "data": {
      "text/plain": [
       "'United States'"
      ]
     },
     "execution_count": 31,
     "metadata": {},
     "output_type": "execute_result"
    }
   ],
   "source": [
    "mode_country = df[\"country\"].mode()[0]\n",
    "mode_country"
   ]
  },
  {
   "cell_type": "code",
   "execution_count": 33,
   "id": "6946c2be-bd95-458a-a528-90d4951b3147",
   "metadata": {},
   "outputs": [],
   "source": [
    "df[\"country\"] = df[\"country\"].fillna(mode_country)"
   ]
  },
  {
   "cell_type": "code",
   "execution_count": 35,
   "id": "23d3d7ad-ff79-4476-b0ab-86c92bd8566a",
   "metadata": {},
   "outputs": [
    {
     "data": {
      "text/plain": [
       "0"
      ]
     },
     "execution_count": 35,
     "metadata": {},
     "output_type": "execute_result"
    }
   ],
   "source": [
    "df[\"country\"].isna().sum()"
   ]
  },
  {
   "cell_type": "code",
   "execution_count": 37,
   "id": "6ce7fc01-fb40-4fc6-9c99-e12cc1df9c86",
   "metadata": {},
   "outputs": [
    {
     "data": {
      "text/plain": [
       "date_added\n",
       "January 1, 2020     109\n",
       "November 1, 2019     89\n",
       "March 1, 2018        75\n",
       "Name: count, dtype: int64"
      ]
     },
     "execution_count": 37,
     "metadata": {},
     "output_type": "execute_result"
    }
   ],
   "source": [
    "df['date_added'].value_counts().head(3)"
   ]
  },
  {
   "cell_type": "code",
   "execution_count": 39,
   "id": "a800f975-549d-4a9a-98d4-27135d1eaeca",
   "metadata": {},
   "outputs": [
    {
     "data": {
      "text/plain": [
       "'January 1, 2020'"
      ]
     },
     "execution_count": 39,
     "metadata": {},
     "output_type": "execute_result"
    }
   ],
   "source": [
    "mode_date = df['date_added'].mode()[0]\n",
    "mode_date"
   ]
  },
  {
   "cell_type": "code",
   "execution_count": 41,
   "id": "be2477fc-90cf-4187-bacd-a16bc2251df0",
   "metadata": {},
   "outputs": [],
   "source": [
    "df['date_added']=df['date_added'].fillna(mode_date)"
   ]
  },
  {
   "cell_type": "code",
   "execution_count": 45,
   "id": "a8635403-1a4a-4d3e-8a8c-cee31d05912e",
   "metadata": {},
   "outputs": [
    {
     "data": {
      "text/plain": [
       "0"
      ]
     },
     "execution_count": 45,
     "metadata": {},
     "output_type": "execute_result"
    }
   ],
   "source": [
    "df['date_added'].isna().sum()"
   ]
  },
  {
   "cell_type": "code",
   "execution_count": 47,
   "id": "6f5b9db4-2664-43d2-9f8b-1539fcfa34c5",
   "metadata": {},
   "outputs": [
    {
     "data": {
      "text/plain": [
       "'TV-MA'"
      ]
     },
     "execution_count": 47,
     "metadata": {},
     "output_type": "execute_result"
    }
   ],
   "source": [
    "mode_rating = df['rating'].mode()[0]\n",
    "mode_rating"
   ]
  },
  {
   "cell_type": "code",
   "execution_count": 49,
   "id": "828b6aa9-b7e2-44a0-9e86-b79a35e09e0f",
   "metadata": {},
   "outputs": [
    {
     "data": {
      "text/plain": [
       "0"
      ]
     },
     "execution_count": 49,
     "metadata": {},
     "output_type": "execute_result"
    }
   ],
   "source": [
    "df['rating'] = df['rating'].fillna(mode_rating)\n",
    "df['rating'].isna().sum()"
   ]
  },
  {
   "cell_type": "code",
   "execution_count": 51,
   "id": "92c0dde6-93bf-43e3-8527-e2a8212d7f81",
   "metadata": {},
   "outputs": [],
   "source": [
    "mode_duration = df['duration'].mode()[0]"
   ]
  },
  {
   "cell_type": "code",
   "execution_count": 53,
   "id": "e3796ba3-2356-4d6c-a628-c61a72660b22",
   "metadata": {},
   "outputs": [
    {
     "data": {
      "text/plain": [
       "'1 Season'"
      ]
     },
     "execution_count": 53,
     "metadata": {},
     "output_type": "execute_result"
    }
   ],
   "source": [
    "mode_duration"
   ]
  },
  {
   "cell_type": "code",
   "execution_count": 55,
   "id": "63e26a05-ec92-4d72-b6eb-a5b3d273294a",
   "metadata": {},
   "outputs": [
    {
     "data": {
      "text/plain": [
       "0"
      ]
     },
     "execution_count": 55,
     "metadata": {},
     "output_type": "execute_result"
    }
   ],
   "source": [
    "df['duration'] = df['duration'].fillna(mode_duration)\n",
    "df['duration'].isna().sum()"
   ]
  },
  {
   "cell_type": "code",
   "execution_count": 57,
   "id": "410279d4-f7ca-420d-81fa-d54da7fc40a6",
   "metadata": {},
   "outputs": [
    {
     "data": {
      "text/plain": [
       "0"
      ]
     },
     "execution_count": 57,
     "metadata": {},
     "output_type": "execute_result"
    }
   ],
   "source": [
    "df['director'] = df['director'].fillna(\"Not Mentioned\")\n",
    "df['cast'] = df['cast'].fillna(\"Not Mentioned\")\n",
    "df['director'].isna().sum()\n",
    "df['cast'].isna().sum()"
   ]
  },
  {
   "cell_type": "code",
   "execution_count": 59,
   "id": "033e708b-b030-43bf-9eb9-28c62161285e",
   "metadata": {},
   "outputs": [
    {
     "name": "stdout",
     "output_type": "stream",
     "text": [
      "<class 'pandas.core.frame.DataFrame'>\n",
      "RangeIndex: 8807 entries, 0 to 8806\n",
      "Data columns (total 10 columns):\n",
      " #   Column        Non-Null Count  Dtype \n",
      "---  ------        --------------  ----- \n",
      " 0   type          8807 non-null   object\n",
      " 1   title         8807 non-null   object\n",
      " 2   director      8807 non-null   object\n",
      " 3   cast          8807 non-null   object\n",
      " 4   country       8807 non-null   object\n",
      " 5   date_added    8807 non-null   object\n",
      " 6   release_year  8807 non-null   int64 \n",
      " 7   rating        8807 non-null   object\n",
      " 8   duration      8807 non-null   object\n",
      " 9   listed_in     8807 non-null   object\n",
      "dtypes: int64(1), object(9)\n",
      "memory usage: 688.2+ KB\n"
     ]
    }
   ],
   "source": [
    "df.info()"
   ]
  },
  {
   "cell_type": "code",
   "execution_count": 63,
   "id": "eb94a3a1-fb66-47dd-a767-6d1ee5ad0364",
   "metadata": {},
   "outputs": [
    {
     "data": {
      "text/plain": [
       "array(['PG-13', 'TV-MA', 'PG', 'TV-14', 'TV-PG', 'TV-Y', 'TV-Y7', 'R',\n",
       "       'TV-G', 'G', 'NC-17', '74 min', '84 min', '66 min', 'NR',\n",
       "       'TV-Y7-FV', 'UR'], dtype=object)"
      ]
     },
     "execution_count": 63,
     "metadata": {},
     "output_type": "execute_result"
    }
   ],
   "source": [
    "df['rating'].unique()"
   ]
  },
  {
   "cell_type": "code",
   "execution_count": 67,
   "id": "a96f33d6-1efa-4201-84bd-841e70e090c8",
   "metadata": {},
   "outputs": [],
   "source": [
    "df = df[~df['rating'].str.contains(\"min\")]"
   ]
  },
  {
   "cell_type": "code",
   "execution_count": 69,
   "id": "f3b3fa52-7623-4576-bcb3-f290f8af6102",
   "metadata": {},
   "outputs": [
    {
     "data": {
      "text/plain": [
       "array(['PG-13', 'TV-MA', 'PG', 'TV-14', 'TV-PG', 'TV-Y', 'TV-Y7', 'R',\n",
       "       'TV-G', 'G', 'NC-17', 'NR', 'TV-Y7-FV', 'UR'], dtype=object)"
      ]
     },
     "execution_count": 69,
     "metadata": {},
     "output_type": "execute_result"
    }
   ],
   "source": [
    "df['rating'].unique()"
   ]
  },
  {
   "cell_type": "code",
   "execution_count": 71,
   "id": "8c64c600-84bf-4da7-a1e9-6f7a98f11e7f",
   "metadata": {},
   "outputs": [
    {
     "data": {
      "text/plain": [
       "array(['September 25, 2021', 'September 24, 2021', 'September 23, 2021',\n",
       "       ..., 'December 6, 2018', 'March 9, 2016', 'January 11, 2020'],\n",
       "      dtype=object)"
      ]
     },
     "execution_count": 71,
     "metadata": {},
     "output_type": "execute_result"
    }
   ],
   "source": [
    "df['date_added'].unique()"
   ]
  },
  {
   "cell_type": "code",
   "execution_count": 73,
   "id": "55cd61b8-9c6d-40f2-8529-47340462ce37",
   "metadata": {},
   "outputs": [
    {
     "name": "stderr",
     "output_type": "stream",
     "text": [
      "C:\\Users\\sambi\\AppData\\Local\\Temp\\ipykernel_17208\\1211396586.py:1: SettingWithCopyWarning: \n",
      "A value is trying to be set on a copy of a slice from a DataFrame.\n",
      "Try using .loc[row_indexer,col_indexer] = value instead\n",
      "\n",
      "See the caveats in the documentation: https://pandas.pydata.org/pandas-docs/stable/user_guide/indexing.html#returning-a-view-versus-a-copy\n",
      "  df['date_added'] = df['date_added'].str.replace(\",\",\"\")\n"
     ]
    }
   ],
   "source": [
    "df['date_added'] = df['date_added'].str.replace(\",\",\"\")"
   ]
  },
  {
   "cell_type": "code",
   "execution_count": 75,
   "id": "353bfb19-f8b3-4ab8-8d22-521076878599",
   "metadata": {},
   "outputs": [
    {
     "data": {
      "text/plain": [
       "array(['September 25 2021', 'September 24 2021', 'September 23 2021', ...,\n",
       "       'December 6 2018', 'March 9 2016', 'January 11 2020'], dtype=object)"
      ]
     },
     "execution_count": 75,
     "metadata": {},
     "output_type": "execute_result"
    }
   ],
   "source": [
    "df['date_added'].unique()"
   ]
  },
  {
   "cell_type": "code",
   "execution_count": 77,
   "id": "45623201-2539-4b2c-8c96-a186f229625f",
   "metadata": {},
   "outputs": [
    {
     "name": "stderr",
     "output_type": "stream",
     "text": [
      "C:\\Users\\sambi\\AppData\\Local\\Temp\\ipykernel_17208\\995423318.py:1: SettingWithCopyWarning: \n",
      "A value is trying to be set on a copy of a slice from a DataFrame.\n",
      "Try using .loc[row_indexer,col_indexer] = value instead\n",
      "\n",
      "See the caveats in the documentation: https://pandas.pydata.org/pandas-docs/stable/user_guide/indexing.html#returning-a-view-versus-a-copy\n",
      "  df['date_added'] = pd.to_datetime(df['date_added'],format=\"mixed\")\n"
     ]
    }
   ],
   "source": [
    "df['date_added'] = pd.to_datetime(df['date_added'],format=\"mixed\")"
   ]
  },
  {
   "cell_type": "code",
   "execution_count": 79,
   "id": "db382c1e-52ab-4b83-be01-e471af5966b6",
   "metadata": {},
   "outputs": [
    {
     "data": {
      "text/plain": [
       "<DatetimeArray>\n",
       "['2021-09-25 00:00:00', '2021-09-24 00:00:00', '2021-09-23 00:00:00',\n",
       " '2021-09-22 00:00:00', '2021-09-21 00:00:00', '2021-09-20 00:00:00',\n",
       " '2021-09-19 00:00:00', '2021-09-17 00:00:00', '2021-09-16 00:00:00',\n",
       " '2021-09-15 00:00:00',\n",
       " ...\n",
       " '2018-09-27 00:00:00', '2017-03-23 00:00:00', '2016-12-25 00:00:00',\n",
       " '2016-11-30 00:00:00', '2017-10-23 00:00:00', '2017-11-04 00:00:00',\n",
       " '2015-08-05 00:00:00', '2018-12-06 00:00:00', '2016-03-09 00:00:00',\n",
       " '2020-01-11 00:00:00']\n",
       "Length: 1714, dtype: datetime64[ns]"
      ]
     },
     "execution_count": 79,
     "metadata": {},
     "output_type": "execute_result"
    }
   ],
   "source": [
    "df['date_added'].unique()\n"
   ]
  },
  {
   "cell_type": "code",
   "execution_count": 81,
   "id": "0973f9a7-e974-41aa-94c4-a7767a6d5e2a",
   "metadata": {},
   "outputs": [
    {
     "name": "stderr",
     "output_type": "stream",
     "text": [
      "C:\\Users\\sambi\\AppData\\Local\\Temp\\ipykernel_17208\\3806547293.py:1: SettingWithCopyWarning: \n",
      "A value is trying to be set on a copy of a slice from a DataFrame.\n",
      "Try using .loc[row_indexer,col_indexer] = value instead\n",
      "\n",
      "See the caveats in the documentation: https://pandas.pydata.org/pandas-docs/stable/user_guide/indexing.html#returning-a-view-versus-a-copy\n",
      "  df['year']=df['date_added'].dt.year\n"
     ]
    }
   ],
   "source": [
    "df['year']=df['date_added'].dt.year"
   ]
  },
  {
   "cell_type": "code",
   "execution_count": 83,
   "id": "9e55e46d-33bf-4a98-8e0b-0b70f88f10cf",
   "metadata": {},
   "outputs": [
    {
     "name": "stderr",
     "output_type": "stream",
     "text": [
      "C:\\Users\\sambi\\AppData\\Local\\Temp\\ipykernel_17208\\3240659301.py:1: SettingWithCopyWarning: \n",
      "A value is trying to be set on a copy of a slice from a DataFrame.\n",
      "Try using .loc[row_indexer,col_indexer] = value instead\n",
      "\n",
      "See the caveats in the documentation: https://pandas.pydata.org/pandas-docs/stable/user_guide/indexing.html#returning-a-view-versus-a-copy\n",
      "  df['month']=df['date_added'].dt.month\n",
      "C:\\Users\\sambi\\AppData\\Local\\Temp\\ipykernel_17208\\3240659301.py:2: SettingWithCopyWarning: \n",
      "A value is trying to be set on a copy of a slice from a DataFrame.\n",
      "Try using .loc[row_indexer,col_indexer] = value instead\n",
      "\n",
      "See the caveats in the documentation: https://pandas.pydata.org/pandas-docs/stable/user_guide/indexing.html#returning-a-view-versus-a-copy\n",
      "  df['day']=df['date_added'].dt.day\n"
     ]
    }
   ],
   "source": [
    "df['month']=df['date_added'].dt.month\n",
    "df['day']=df['date_added'].dt.day"
   ]
  },
  {
   "cell_type": "code",
   "execution_count": 85,
   "id": "6d07347a-f1e4-44db-8bc0-842c5e20f833",
   "metadata": {},
   "outputs": [
    {
     "data": {
      "text/html": [
       "<div>\n",
       "<style scoped>\n",
       "    .dataframe tbody tr th:only-of-type {\n",
       "        vertical-align: middle;\n",
       "    }\n",
       "\n",
       "    .dataframe tbody tr th {\n",
       "        vertical-align: top;\n",
       "    }\n",
       "\n",
       "    .dataframe thead th {\n",
       "        text-align: right;\n",
       "    }\n",
       "</style>\n",
       "<table border=\"1\" class=\"dataframe\">\n",
       "  <thead>\n",
       "    <tr style=\"text-align: right;\">\n",
       "      <th></th>\n",
       "      <th>type</th>\n",
       "      <th>title</th>\n",
       "      <th>director</th>\n",
       "      <th>cast</th>\n",
       "      <th>country</th>\n",
       "      <th>date_added</th>\n",
       "      <th>release_year</th>\n",
       "      <th>rating</th>\n",
       "      <th>duration</th>\n",
       "      <th>listed_in</th>\n",
       "      <th>year</th>\n",
       "      <th>month</th>\n",
       "      <th>day</th>\n",
       "    </tr>\n",
       "  </thead>\n",
       "  <tbody>\n",
       "    <tr>\n",
       "      <th>3728</th>\n",
       "      <td>Movie</td>\n",
       "      <td>The End of Evangelion</td>\n",
       "      <td>Hideaki Anno, Kazuya Tsurumaki</td>\n",
       "      <td>Megumi Ogata, Kotono Mitsuishi, Megumi Hayashi...</td>\n",
       "      <td>Japan</td>\n",
       "      <td>2019-06-21</td>\n",
       "      <td>1997</td>\n",
       "      <td>TV-MA</td>\n",
       "      <td>87 min</td>\n",
       "      <td>Action &amp; Adventure, Anime Features, Internatio...</td>\n",
       "      <td>2019</td>\n",
       "      <td>6</td>\n",
       "      <td>21</td>\n",
       "    </tr>\n",
       "    <tr>\n",
       "      <th>3070</th>\n",
       "      <td>Movie</td>\n",
       "      <td>Posesif</td>\n",
       "      <td>Edwin</td>\n",
       "      <td>Putri Marino, Adipati Dolken, Gritte Agatha, C...</td>\n",
       "      <td>Indonesia</td>\n",
       "      <td>2020-01-01</td>\n",
       "      <td>2017</td>\n",
       "      <td>TV-MA</td>\n",
       "      <td>102 min</td>\n",
       "      <td>Dramas, International Movies, Romantic Movies</td>\n",
       "      <td>2020</td>\n",
       "      <td>1</td>\n",
       "      <td>1</td>\n",
       "    </tr>\n",
       "    <tr>\n",
       "      <th>1490</th>\n",
       "      <td>Movie</td>\n",
       "      <td>The Magic School Bus Rides Again In the Zone</td>\n",
       "      <td>Richard Weston</td>\n",
       "      <td>Mikaela Blake, Gabby Clarke, Roman Lutterotti,...</td>\n",
       "      <td>Canada</td>\n",
       "      <td>2020-12-26</td>\n",
       "      <td>2020</td>\n",
       "      <td>TV-Y</td>\n",
       "      <td>46 min</td>\n",
       "      <td>Children &amp; Family Movies</td>\n",
       "      <td>2020</td>\n",
       "      <td>12</td>\n",
       "      <td>26</td>\n",
       "    </tr>\n",
       "    <tr>\n",
       "      <th>6710</th>\n",
       "      <td>Movie</td>\n",
       "      <td>Evan Almighty</td>\n",
       "      <td>Tom Shadyac</td>\n",
       "      <td>Steve Carell, John Goodman, Molly Shannon, Lau...</td>\n",
       "      <td>United States</td>\n",
       "      <td>2019-04-16</td>\n",
       "      <td>2007</td>\n",
       "      <td>PG</td>\n",
       "      <td>96 min</td>\n",
       "      <td>Children &amp; Family Movies, Comedies, Faith &amp; Sp...</td>\n",
       "      <td>2019</td>\n",
       "      <td>4</td>\n",
       "      <td>16</td>\n",
       "    </tr>\n",
       "    <tr>\n",
       "      <th>5246</th>\n",
       "      <td>TV Show</td>\n",
       "      <td>Sudden</td>\n",
       "      <td>Not Mentioned</td>\n",
       "      <td>Rui En, Romeo Tan, Rebecca Lim, Zhang Zhenhuan</td>\n",
       "      <td>Singapore</td>\n",
       "      <td>2017-10-01</td>\n",
       "      <td>2013</td>\n",
       "      <td>TV-14</td>\n",
       "      <td>1 Season</td>\n",
       "      <td>International TV Shows, Romantic TV Shows, TV ...</td>\n",
       "      <td>2017</td>\n",
       "      <td>10</td>\n",
       "      <td>1</td>\n",
       "    </tr>\n",
       "  </tbody>\n",
       "</table>\n",
       "</div>"
      ],
      "text/plain": [
       "         type                                         title  \\\n",
       "3728    Movie                         The End of Evangelion   \n",
       "3070    Movie                                       Posesif   \n",
       "1490    Movie  The Magic School Bus Rides Again In the Zone   \n",
       "6710    Movie                                 Evan Almighty   \n",
       "5246  TV Show                                        Sudden   \n",
       "\n",
       "                            director  \\\n",
       "3728  Hideaki Anno, Kazuya Tsurumaki   \n",
       "3070                           Edwin   \n",
       "1490                  Richard Weston   \n",
       "6710                     Tom Shadyac   \n",
       "5246                   Not Mentioned   \n",
       "\n",
       "                                                   cast        country  \\\n",
       "3728  Megumi Ogata, Kotono Mitsuishi, Megumi Hayashi...          Japan   \n",
       "3070  Putri Marino, Adipati Dolken, Gritte Agatha, C...      Indonesia   \n",
       "1490  Mikaela Blake, Gabby Clarke, Roman Lutterotti,...         Canada   \n",
       "6710  Steve Carell, John Goodman, Molly Shannon, Lau...  United States   \n",
       "5246     Rui En, Romeo Tan, Rebecca Lim, Zhang Zhenhuan      Singapore   \n",
       "\n",
       "     date_added  release_year rating  duration  \\\n",
       "3728 2019-06-21          1997  TV-MA    87 min   \n",
       "3070 2020-01-01          2017  TV-MA   102 min   \n",
       "1490 2020-12-26          2020   TV-Y    46 min   \n",
       "6710 2019-04-16          2007     PG    96 min   \n",
       "5246 2017-10-01          2013  TV-14  1 Season   \n",
       "\n",
       "                                              listed_in  year  month  day  \n",
       "3728  Action & Adventure, Anime Features, Internatio...  2019      6   21  \n",
       "3070      Dramas, International Movies, Romantic Movies  2020      1    1  \n",
       "1490                           Children & Family Movies  2020     12   26  \n",
       "6710  Children & Family Movies, Comedies, Faith & Sp...  2019      4   16  \n",
       "5246  International TV Shows, Romantic TV Shows, TV ...  2017     10    1  "
      ]
     },
     "execution_count": 85,
     "metadata": {},
     "output_type": "execute_result"
    }
   ],
   "source": [
    "df.sample(5)"
   ]
  },
  {
   "cell_type": "code",
   "execution_count": 89,
   "id": "be7cee02-a607-4b3b-a9ac-0c00f18ff003",
   "metadata": {},
   "outputs": [
    {
     "name": "stderr",
     "output_type": "stream",
     "text": [
      "C:\\Users\\sambi\\AppData\\Local\\Temp\\ipykernel_17208\\1791153194.py:1: SettingWithCopyWarning: \n",
      "A value is trying to be set on a copy of a slice from a DataFrame.\n",
      "Try using .loc[row_indexer,col_indexer] = value instead\n",
      "\n",
      "See the caveats in the documentation: https://pandas.pydata.org/pandas-docs/stable/user_guide/indexing.html#returning-a-view-versus-a-copy\n",
      "  df['genre'] = df['listed_in'].str.split(\",\").str[0]\n"
     ]
    }
   ],
   "source": [
    "df['genre'] = df['listed_in'].str.split(\",\").str[0]"
   ]
  },
  {
   "cell_type": "code",
   "execution_count": 91,
   "id": "9726156d-abb2-4285-92c2-9db13f9566d5",
   "metadata": {},
   "outputs": [
    {
     "data": {
      "text/html": [
       "<div>\n",
       "<style scoped>\n",
       "    .dataframe tbody tr th:only-of-type {\n",
       "        vertical-align: middle;\n",
       "    }\n",
       "\n",
       "    .dataframe tbody tr th {\n",
       "        vertical-align: top;\n",
       "    }\n",
       "\n",
       "    .dataframe thead th {\n",
       "        text-align: right;\n",
       "    }\n",
       "</style>\n",
       "<table border=\"1\" class=\"dataframe\">\n",
       "  <thead>\n",
       "    <tr style=\"text-align: right;\">\n",
       "      <th></th>\n",
       "      <th>type</th>\n",
       "      <th>title</th>\n",
       "      <th>director</th>\n",
       "      <th>cast</th>\n",
       "      <th>country</th>\n",
       "      <th>date_added</th>\n",
       "      <th>release_year</th>\n",
       "      <th>rating</th>\n",
       "      <th>duration</th>\n",
       "      <th>listed_in</th>\n",
       "      <th>year</th>\n",
       "      <th>month</th>\n",
       "      <th>day</th>\n",
       "      <th>genre</th>\n",
       "    </tr>\n",
       "  </thead>\n",
       "  <tbody>\n",
       "    <tr>\n",
       "      <th>3672</th>\n",
       "      <td>Movie</td>\n",
       "      <td>Kidnapping Stella</td>\n",
       "      <td>Thomas Sieben</td>\n",
       "      <td>Max von der Groeben, Jella Haase, Clemens Schick</td>\n",
       "      <td>Germany</td>\n",
       "      <td>2019-07-12</td>\n",
       "      <td>2019</td>\n",
       "      <td>TV-MA</td>\n",
       "      <td>90 min</td>\n",
       "      <td>Dramas, International Movies, Thrillers</td>\n",
       "      <td>2019</td>\n",
       "      <td>7</td>\n",
       "      <td>12</td>\n",
       "      <td>Dramas</td>\n",
       "    </tr>\n",
       "    <tr>\n",
       "      <th>632</th>\n",
       "      <td>Movie</td>\n",
       "      <td>Wanted</td>\n",
       "      <td>Nibal Arakji</td>\n",
       "      <td>Daad Rizk, Georges Diab, Sihame Haddad, George...</td>\n",
       "      <td>United States</td>\n",
       "      <td>2021-06-28</td>\n",
       "      <td>2019</td>\n",
       "      <td>TV-14</td>\n",
       "      <td>90 min</td>\n",
       "      <td>Comedies, International Movies</td>\n",
       "      <td>2021</td>\n",
       "      <td>6</td>\n",
       "      <td>28</td>\n",
       "      <td>Comedies</td>\n",
       "    </tr>\n",
       "    <tr>\n",
       "      <th>5958</th>\n",
       "      <td>Movie</td>\n",
       "      <td>9</td>\n",
       "      <td>Shane Acker</td>\n",
       "      <td>Elijah Wood, John C. Reilly, Jennifer Connelly...</td>\n",
       "      <td>United States</td>\n",
       "      <td>2017-11-16</td>\n",
       "      <td>2009</td>\n",
       "      <td>PG-13</td>\n",
       "      <td>80 min</td>\n",
       "      <td>Action &amp; Adventure, Independent Movies, Sci-Fi...</td>\n",
       "      <td>2017</td>\n",
       "      <td>11</td>\n",
       "      <td>16</td>\n",
       "      <td>Action &amp; Adventure</td>\n",
       "    </tr>\n",
       "    <tr>\n",
       "      <th>8495</th>\n",
       "      <td>Movie</td>\n",
       "      <td>The Runner</td>\n",
       "      <td>Austin Stark</td>\n",
       "      <td>Nicolas Cage, Sarah Paulson, Connie Nielsen, W...</td>\n",
       "      <td>United States</td>\n",
       "      <td>2017-09-08</td>\n",
       "      <td>2015</td>\n",
       "      <td>R</td>\n",
       "      <td>90 min</td>\n",
       "      <td>Dramas, Independent Movies</td>\n",
       "      <td>2017</td>\n",
       "      <td>9</td>\n",
       "      <td>8</td>\n",
       "      <td>Dramas</td>\n",
       "    </tr>\n",
       "    <tr>\n",
       "      <th>4438</th>\n",
       "      <td>Movie</td>\n",
       "      <td>Ghanchakkar</td>\n",
       "      <td>Raj Kumar Gupta</td>\n",
       "      <td>Emraan Hashmi, Vidya Balan, Rajesh Sharma, Nam...</td>\n",
       "      <td>India</td>\n",
       "      <td>2018-11-01</td>\n",
       "      <td>2013</td>\n",
       "      <td>TV-MA</td>\n",
       "      <td>129 min</td>\n",
       "      <td>Comedies, International Movies, Thrillers</td>\n",
       "      <td>2018</td>\n",
       "      <td>11</td>\n",
       "      <td>1</td>\n",
       "      <td>Comedies</td>\n",
       "    </tr>\n",
       "  </tbody>\n",
       "</table>\n",
       "</div>"
      ],
      "text/plain": [
       "       type              title         director  \\\n",
       "3672  Movie  Kidnapping Stella    Thomas Sieben   \n",
       "632   Movie             Wanted     Nibal Arakji   \n",
       "5958  Movie                  9      Shane Acker   \n",
       "8495  Movie         The Runner     Austin Stark   \n",
       "4438  Movie        Ghanchakkar  Raj Kumar Gupta   \n",
       "\n",
       "                                                   cast        country  \\\n",
       "3672   Max von der Groeben, Jella Haase, Clemens Schick        Germany   \n",
       "632   Daad Rizk, Georges Diab, Sihame Haddad, George...  United States   \n",
       "5958  Elijah Wood, John C. Reilly, Jennifer Connelly...  United States   \n",
       "8495  Nicolas Cage, Sarah Paulson, Connie Nielsen, W...  United States   \n",
       "4438  Emraan Hashmi, Vidya Balan, Rajesh Sharma, Nam...          India   \n",
       "\n",
       "     date_added  release_year rating duration  \\\n",
       "3672 2019-07-12          2019  TV-MA   90 min   \n",
       "632  2021-06-28          2019  TV-14   90 min   \n",
       "5958 2017-11-16          2009  PG-13   80 min   \n",
       "8495 2017-09-08          2015      R   90 min   \n",
       "4438 2018-11-01          2013  TV-MA  129 min   \n",
       "\n",
       "                                              listed_in  year  month  day  \\\n",
       "3672            Dramas, International Movies, Thrillers  2019      7   12   \n",
       "632                      Comedies, International Movies  2021      6   28   \n",
       "5958  Action & Adventure, Independent Movies, Sci-Fi...  2017     11   16   \n",
       "8495                         Dramas, Independent Movies  2017      9    8   \n",
       "4438          Comedies, International Movies, Thrillers  2018     11    1   \n",
       "\n",
       "                   genre  \n",
       "3672              Dramas  \n",
       "632             Comedies  \n",
       "5958  Action & Adventure  \n",
       "8495              Dramas  \n",
       "4438            Comedies  "
      ]
     },
     "execution_count": 91,
     "metadata": {},
     "output_type": "execute_result"
    }
   ],
   "source": [
    "df.sample(5)"
   ]
  },
  {
   "cell_type": "code",
   "execution_count": 93,
   "id": "d1f4beac-d764-46dc-8c99-34258ac1a95a",
   "metadata": {},
   "outputs": [
    {
     "data": {
      "text/plain": [
       "genre\n",
       "Dramas                    1600\n",
       "Comedies                  1210\n",
       "Action & Adventure         859\n",
       "Documentaries              829\n",
       "International TV Shows     774\n",
       "Name: count, dtype: int64"
      ]
     },
     "execution_count": 93,
     "metadata": {},
     "output_type": "execute_result"
    }
   ],
   "source": [
    "df['genre'].value_counts().head()"
   ]
  },
  {
   "cell_type": "code",
   "execution_count": 95,
   "id": "1ebbdb0d-61c6-4a5e-93c2-62a2ff22f2bd",
   "metadata": {},
   "outputs": [
    {
     "data": {
      "text/plain": [
       "array(['Not Mentioned',\n",
       "       'Ama Qamata, Khosi Ngema, Gail Mabalane, Thabang Molaba, Dillon Windvogel, Natasha Thahane, Arno Greeff, Xolile Tshabalala, Getmore Sithole, Cindy Mahlangu, Ryle De Morny, Greteli Fincham, Sello Maake Ka-Ncube, Odwa Gwanya, Mekaila Mathys, Sandi Schultz, Duane Williams, Shamilla Miller, Patrick Mofokeng',\n",
       "       'Sami Bouajila, Tracy Gotoas, Samuel Jouy, Nabiha Akkari, Sofia Lesaffre, Salim Kechiouche, Noureddine Farihi, Geert Van Rampelberg, Bakary Diombera',\n",
       "       ...,\n",
       "       'Jesse Eisenberg, Woody Harrelson, Emma Stone, Abigail Breslin, Amber Heard, Bill Murray, Derek Graf',\n",
       "       'Tim Allen, Courteney Cox, Chevy Chase, Kate Mara, Ryan Newman, Michael Cassidy, Spencer Breslin, Rip Torn, Kevin Zegers',\n",
       "       'Vicky Kaushal, Sarah-Jane Dias, Raaghav Chanana, Manish Chaudhary, Meghna Malik, Malkeet Rauni, Anita Shabdish, Chittaranjan Tripathy'],\n",
       "      dtype=object)"
      ]
     },
     "execution_count": 95,
     "metadata": {},
     "output_type": "execute_result"
    }
   ],
   "source": [
    "df[\"cast\"].unique()"
   ]
  },
  {
   "cell_type": "code",
   "execution_count": 99,
   "id": "0c5dfa8a-4332-4ed1-a712-17961384fdaa",
   "metadata": {},
   "outputs": [
    {
     "data": {
      "text/plain": [
       "array(['Ama Qamata, Khosi Ngema, Gail Mabalane, Thabang Molaba, Dillon Windvogel, Natasha Thahane, Arno Greeff, Xolile Tshabalala, Getmore Sithole, Cindy Mahlangu, Ryle De Morny, Greteli Fincham, Sello Maake Ka-Ncube, Odwa Gwanya, Mekaila Mathys, Sandi Schultz, Duane Williams, Shamilla Miller, Patrick Mofokeng',\n",
       "       'Sami Bouajila, Tracy Gotoas, Samuel Jouy, Nabiha Akkari, Sofia Lesaffre, Salim Kechiouche, Noureddine Farihi, Geert Van Rampelberg, Bakary Diombera',\n",
       "       'Mayur More, Jitendra Kumar, Ranjan Raj, Alam Khan, Ahsaas Channa, Revathi Pillai, Urvi Singh, Arun Kumar',\n",
       "       ...,\n",
       "       'Jesse Eisenberg, Woody Harrelson, Emma Stone, Abigail Breslin, Amber Heard, Bill Murray, Derek Graf',\n",
       "       'Tim Allen, Courteney Cox, Chevy Chase, Kate Mara, Ryan Newman, Michael Cassidy, Spencer Breslin, Rip Torn, Kevin Zegers',\n",
       "       'Vicky Kaushal, Sarah-Jane Dias, Raaghav Chanana, Manish Chaudhary, Meghna Malik, Malkeet Rauni, Anita Shabdish, Chittaranjan Tripathy'],\n",
       "      dtype=object)"
      ]
     },
     "execution_count": 99,
     "metadata": {},
     "output_type": "execute_result"
    }
   ],
   "source": [
    "df = df[df[\"cast\"]!=\"Not Mentioned\"]\n",
    "df[\"cast\"].unique()"
   ]
  },
  {
   "cell_type": "code",
   "execution_count": 103,
   "id": "f15608ec-3a64-4036-b148-f7ee94e86085",
   "metadata": {},
   "outputs": [],
   "source": [
    "df[\"lead_actor\"] = df[\"cast\"].str.split(\",\").str[0]\n"
   ]
  },
  {
   "cell_type": "code",
   "execution_count": 105,
   "id": "a46a301e-4090-4afb-8459-a57692a40336",
   "metadata": {},
   "outputs": [
    {
     "data": {
      "text/plain": [
       "lead_actor\n",
       "Shah Rukh Khan        26\n",
       "Akshay Kumar          23\n",
       "David Attenborough    20\n",
       "Adam Sandler          20\n",
       "Amitabh Bachchan      20\n",
       "Name: count, dtype: int64"
      ]
     },
     "execution_count": 105,
     "metadata": {},
     "output_type": "execute_result"
    }
   ],
   "source": [
    "df[\"lead_actor\"].value_counts().head(5)"
   ]
  },
  {
   "cell_type": "code",
   "execution_count": 107,
   "id": "16c3ef74-a4de-435f-b805-2eeb47e9c290",
   "metadata": {},
   "outputs": [],
   "source": [
    "df.drop([\"cast\",\"listed_in\",\"date_added\"],axis=1,inplace=True)"
   ]
  },
  {
   "cell_type": "code",
   "execution_count": 109,
   "id": "522743a8-c761-461b-b2a1-eb62480d8f21",
   "metadata": {},
   "outputs": [
    {
     "data": {
      "text/html": [
       "<div>\n",
       "<style scoped>\n",
       "    .dataframe tbody tr th:only-of-type {\n",
       "        vertical-align: middle;\n",
       "    }\n",
       "\n",
       "    .dataframe tbody tr th {\n",
       "        vertical-align: top;\n",
       "    }\n",
       "\n",
       "    .dataframe thead th {\n",
       "        text-align: right;\n",
       "    }\n",
       "</style>\n",
       "<table border=\"1\" class=\"dataframe\">\n",
       "  <thead>\n",
       "    <tr style=\"text-align: right;\">\n",
       "      <th></th>\n",
       "      <th>type</th>\n",
       "      <th>title</th>\n",
       "      <th>director</th>\n",
       "      <th>country</th>\n",
       "      <th>release_year</th>\n",
       "      <th>rating</th>\n",
       "      <th>duration</th>\n",
       "      <th>year</th>\n",
       "      <th>month</th>\n",
       "      <th>day</th>\n",
       "      <th>genre</th>\n",
       "      <th>lead_actor</th>\n",
       "    </tr>\n",
       "  </thead>\n",
       "  <tbody>\n",
       "    <tr>\n",
       "      <th>3133</th>\n",
       "      <td>Movie</td>\n",
       "      <td>Don</td>\n",
       "      <td>Farhan Akhtar</td>\n",
       "      <td>India</td>\n",
       "      <td>2006</td>\n",
       "      <td>TV-14</td>\n",
       "      <td>169 min</td>\n",
       "      <td>2019</td>\n",
       "      <td>12</td>\n",
       "      <td>15</td>\n",
       "      <td>Action &amp; Adventure</td>\n",
       "      <td>Shah Rukh Khan</td>\n",
       "    </tr>\n",
       "    <tr>\n",
       "      <th>4336</th>\n",
       "      <td>Movie</td>\n",
       "      <td>Crossroads: One Two Jaga</td>\n",
       "      <td>Nam Ron</td>\n",
       "      <td>Malaysia</td>\n",
       "      <td>2018</td>\n",
       "      <td>TV-14</td>\n",
       "      <td>81 min</td>\n",
       "      <td>2018</td>\n",
       "      <td>12</td>\n",
       "      <td>1</td>\n",
       "      <td>Dramas</td>\n",
       "      <td>Zahiril Adzim</td>\n",
       "    </tr>\n",
       "    <tr>\n",
       "      <th>4463</th>\n",
       "      <td>Movie</td>\n",
       "      <td>Vaya</td>\n",
       "      <td>Akin Omotoso</td>\n",
       "      <td>South Africa</td>\n",
       "      <td>2016</td>\n",
       "      <td>TV-MA</td>\n",
       "      <td>106 min</td>\n",
       "      <td>2018</td>\n",
       "      <td>11</td>\n",
       "      <td>1</td>\n",
       "      <td>Dramas</td>\n",
       "      <td>Mncedisi Shabangu</td>\n",
       "    </tr>\n",
       "    <tr>\n",
       "      <th>1142</th>\n",
       "      <td>Movie</td>\n",
       "      <td>White Boy</td>\n",
       "      <td>Shawn Rech</td>\n",
       "      <td>United States</td>\n",
       "      <td>2017</td>\n",
       "      <td>TV-MA</td>\n",
       "      <td>83 min</td>\n",
       "      <td>2021</td>\n",
       "      <td>4</td>\n",
       "      <td>1</td>\n",
       "      <td>Documentaries</td>\n",
       "      <td>Richard Wershe Jr.</td>\n",
       "    </tr>\n",
       "    <tr>\n",
       "      <th>7257</th>\n",
       "      <td>TV Show</td>\n",
       "      <td>La Rosa de Guadalupe</td>\n",
       "      <td>Not Mentioned</td>\n",
       "      <td>Mexico</td>\n",
       "      <td>2010</td>\n",
       "      <td>TV-PG</td>\n",
       "      <td>1 Season</td>\n",
       "      <td>2019</td>\n",
       "      <td>1</td>\n",
       "      <td>15</td>\n",
       "      <td>Classic &amp; Cult TV</td>\n",
       "      <td>Milia Nader</td>\n",
       "    </tr>\n",
       "  </tbody>\n",
       "</table>\n",
       "</div>"
      ],
      "text/plain": [
       "         type                     title       director        country  \\\n",
       "3133    Movie                       Don  Farhan Akhtar          India   \n",
       "4336    Movie  Crossroads: One Two Jaga        Nam Ron       Malaysia   \n",
       "4463    Movie                      Vaya   Akin Omotoso   South Africa   \n",
       "1142    Movie                 White Boy     Shawn Rech  United States   \n",
       "7257  TV Show      La Rosa de Guadalupe  Not Mentioned         Mexico   \n",
       "\n",
       "      release_year rating  duration  year  month  day               genre  \\\n",
       "3133          2006  TV-14   169 min  2019     12   15  Action & Adventure   \n",
       "4336          2018  TV-14    81 min  2018     12    1              Dramas   \n",
       "4463          2016  TV-MA   106 min  2018     11    1              Dramas   \n",
       "1142          2017  TV-MA    83 min  2021      4    1       Documentaries   \n",
       "7257          2010  TV-PG  1 Season  2019      1   15   Classic & Cult TV   \n",
       "\n",
       "              lead_actor  \n",
       "3133      Shah Rukh Khan  \n",
       "4336       Zahiril Adzim  \n",
       "4463   Mncedisi Shabangu  \n",
       "1142  Richard Wershe Jr.  \n",
       "7257         Milia Nader  "
      ]
     },
     "execution_count": 109,
     "metadata": {},
     "output_type": "execute_result"
    }
   ],
   "source": [
    "df.sample(5)"
   ]
  },
  {
   "cell_type": "code",
   "execution_count": 111,
   "id": "c8fad3c2-5c3a-4cc9-9cce-48f176932511",
   "metadata": {},
   "outputs": [],
   "source": [
    "df.to_csv(\"cleaned_data\")"
   ]
  },
  {
   "cell_type": "code",
   "execution_count": null,
   "id": "1668eed9-9c60-4fca-b4be-797bc23b4986",
   "metadata": {},
   "outputs": [],
   "source": []
  },
  {
   "cell_type": "code",
   "execution_count": null,
   "id": "cdc3a1da-ac81-4de2-b31b-4ef760f620ce",
   "metadata": {},
   "outputs": [],
   "source": []
  },
  {
   "cell_type": "code",
   "execution_count": null,
   "id": "94d5828f-6c83-4a23-944f-56ea984b2740",
   "metadata": {},
   "outputs": [],
   "source": []
  }
 ],
 "metadata": {
  "kernelspec": {
   "display_name": "Python 3 (ipykernel)",
   "language": "python",
   "name": "python3"
  },
  "language_info": {
   "codemirror_mode": {
    "name": "ipython",
    "version": 3
   },
   "file_extension": ".py",
   "mimetype": "text/x-python",
   "name": "python",
   "nbconvert_exporter": "python",
   "pygments_lexer": "ipython3",
   "version": "3.12.7"
  }
 },
 "nbformat": 4,
 "nbformat_minor": 5
}
